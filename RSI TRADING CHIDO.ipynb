{
 "cells": [
  {
   "cell_type": "code",
   "execution_count": 6,
   "id": "4c0d8a98",
   "metadata": {},
   "outputs": [],
   "source": [
    "import pandas as pd\n",
    "import yfinance as yf\n",
    "import numpy as np\n",
    "import matplotlib.pyplot as plt\n",
    "%matplotlib inline\n",
    "pd.options.mode.chained_assignment = None"
   ]
  },
  {
   "cell_type": "code",
   "execution_count": 39,
   "id": "047d8e71",
   "metadata": {},
   "outputs": [],
   "source": [
    "start_date = '2019-01-01'\n",
    "end_date = '2022-01-01'"
   ]
  },
  {
   "cell_type": "code",
   "execution_count": 40,
   "id": "1b31a776",
   "metadata": {},
   "outputs": [],
   "source": [
    "def RSIcalc(asset): #names\n",
    "    df = yf.download(asset,start=start_date, end = end_date)\n",
    "    df['MA200'] = df['Adj Close'].rolling(window=200).mean()\n",
    "    df['Price Change'] = df['Adj Close'].pct_change()\n",
    "    df['Upmove'] = df['Price Change'].apply(lambda x: x if x>0 else 0)\n",
    "    df['Downmove'] = df['Price Change'].apply(lambda x: abs(x) if x<0 else 0)\n",
    "    df['Avg Up'] = df[\"Upmove\"].ewm(span=19).mean()\n",
    "    df['Avg Down'] = df[\"Downmove\"].ewm(span=19).mean()\n",
    "    df = df.dropna()\n",
    "    df['RS'] = (df['Avg Up']/df['Avg Down'])\n",
    "    df['RSI']= df['RS'].apply(lambda x: 100-(100/(x+1)))\n",
    "    df.loc[(df['Adj Close'] > df['MA200']) & (df['RSI']<50), 'Buy'] = 'Yes'\n",
    "    df.loc[(df['Adj Close'] < df['MA200']) | (df['RSI']>50), 'Buy'] = 'No'\n",
    "    return df"
   ]
  },
  {
   "cell_type": "code",
   "execution_count": 41,
   "id": "2bcdb247",
   "metadata": {},
   "outputs": [],
   "source": [
    "stock = 'TSLA'"
   ]
  },
  {
   "cell_type": "code",
   "execution_count": 71,
   "id": "a43a0ad6",
   "metadata": {
    "scrolled": true
   },
   "outputs": [
    {
     "name": "stdout",
     "output_type": "stream",
     "text": [
      "[*********************100%***********************]  1 of 1 completed\n"
     ]
    },
    {
     "data": {
      "text/html": [
       "<div>\n",
       "<style scoped>\n",
       "    .dataframe tbody tr th:only-of-type {\n",
       "        vertical-align: middle;\n",
       "    }\n",
       "\n",
       "    .dataframe tbody tr th {\n",
       "        vertical-align: top;\n",
       "    }\n",
       "\n",
       "    .dataframe thead th {\n",
       "        text-align: right;\n",
       "    }\n",
       "</style>\n",
       "<table border=\"1\" class=\"dataframe\">\n",
       "  <thead>\n",
       "    <tr style=\"text-align: right;\">\n",
       "      <th></th>\n",
       "      <th>Open</th>\n",
       "      <th>High</th>\n",
       "      <th>Low</th>\n",
       "      <th>Close</th>\n",
       "      <th>Adj Close</th>\n",
       "      <th>Volume</th>\n",
       "      <th>MA200</th>\n",
       "      <th>Price Change</th>\n",
       "      <th>Upmove</th>\n",
       "      <th>Downmove</th>\n",
       "      <th>Avg Up</th>\n",
       "      <th>Avg Down</th>\n",
       "      <th>RS</th>\n",
       "      <th>RSI</th>\n",
       "      <th>Buy</th>\n",
       "    </tr>\n",
       "    <tr>\n",
       "      <th>Date</th>\n",
       "      <th></th>\n",
       "      <th></th>\n",
       "      <th></th>\n",
       "      <th></th>\n",
       "      <th></th>\n",
       "      <th></th>\n",
       "      <th></th>\n",
       "      <th></th>\n",
       "      <th></th>\n",
       "      <th></th>\n",
       "      <th></th>\n",
       "      <th></th>\n",
       "      <th></th>\n",
       "      <th></th>\n",
       "      <th></th>\n",
       "    </tr>\n",
       "  </thead>\n",
       "  <tbody>\n",
       "    <tr>\n",
       "      <th>2019-11-26</th>\n",
       "      <td>22.351334</td>\n",
       "      <td>22.366667</td>\n",
       "      <td>21.806667</td>\n",
       "      <td>21.927999</td>\n",
       "      <td>21.927999</td>\n",
       "      <td>119211000</td>\n",
       "      <td>17.048927</td>\n",
       "      <td>-0.022061</td>\n",
       "      <td>0.000000</td>\n",
       "      <td>0.022061</td>\n",
       "      <td>0.009969</td>\n",
       "      <td>0.010313</td>\n",
       "      <td>0.966709</td>\n",
       "      <td>49.153626</td>\n",
       "      <td>Yes</td>\n",
       "    </tr>\n",
       "    <tr>\n",
       "      <th>2019-11-29</th>\n",
       "      <td>22.073999</td>\n",
       "      <td>22.084000</td>\n",
       "      <td>21.833332</td>\n",
       "      <td>21.996000</td>\n",
       "      <td>21.996000</td>\n",
       "      <td>36984000</td>\n",
       "      <td>17.065357</td>\n",
       "      <td>-0.004075</td>\n",
       "      <td>0.000000</td>\n",
       "      <td>0.004075</td>\n",
       "      <td>0.008724</td>\n",
       "      <td>0.008761</td>\n",
       "      <td>0.995765</td>\n",
       "      <td>49.893911</td>\n",
       "      <td>Yes</td>\n",
       "    </tr>\n",
       "    <tr>\n",
       "      <th>2019-12-05</th>\n",
       "      <td>22.188667</td>\n",
       "      <td>22.294666</td>\n",
       "      <td>21.816668</td>\n",
       "      <td>22.024668</td>\n",
       "      <td>22.024668</td>\n",
       "      <td>55869000</td>\n",
       "      <td>17.107743</td>\n",
       "      <td>-0.007987</td>\n",
       "      <td>0.000000</td>\n",
       "      <td>0.007987</td>\n",
       "      <td>0.007135</td>\n",
       "      <td>0.007395</td>\n",
       "      <td>0.964750</td>\n",
       "      <td>49.102949</td>\n",
       "      <td>Yes</td>\n",
       "    </tr>\n",
       "    <tr>\n",
       "      <th>2020-02-27</th>\n",
       "      <td>48.666668</td>\n",
       "      <td>49.318001</td>\n",
       "      <td>44.599998</td>\n",
       "      <td>45.266666</td>\n",
       "      <td>45.266666</td>\n",
       "      <td>364158000</td>\n",
       "      <td>22.786057</td>\n",
       "      <td>-0.128146</td>\n",
       "      <td>0.000000</td>\n",
       "      <td>0.128146</td>\n",
       "      <td>0.020398</td>\n",
       "      <td>0.029836</td>\n",
       "      <td>0.683677</td>\n",
       "      <td>40.606191</td>\n",
       "      <td>Yes</td>\n",
       "    </tr>\n",
       "    <tr>\n",
       "      <th>2020-02-28</th>\n",
       "      <td>41.980000</td>\n",
       "      <td>46.034668</td>\n",
       "      <td>40.768002</td>\n",
       "      <td>44.532665</td>\n",
       "      <td>44.532665</td>\n",
       "      <td>363343500</td>\n",
       "      <td>22.931283</td>\n",
       "      <td>-0.016215</td>\n",
       "      <td>0.000000</td>\n",
       "      <td>0.016215</td>\n",
       "      <td>0.018359</td>\n",
       "      <td>0.028474</td>\n",
       "      <td>0.644744</td>\n",
       "      <td>39.200273</td>\n",
       "      <td>Yes</td>\n",
       "    </tr>\n",
       "    <tr>\n",
       "      <th>...</th>\n",
       "      <td>...</td>\n",
       "      <td>...</td>\n",
       "      <td>...</td>\n",
       "      <td>...</td>\n",
       "      <td>...</td>\n",
       "      <td>...</td>\n",
       "      <td>...</td>\n",
       "      <td>...</td>\n",
       "      <td>...</td>\n",
       "      <td>...</td>\n",
       "      <td>...</td>\n",
       "      <td>...</td>\n",
       "      <td>...</td>\n",
       "      <td>...</td>\n",
       "      <td>...</td>\n",
       "    </tr>\n",
       "    <tr>\n",
       "      <th>2021-12-15</th>\n",
       "      <td>317.736664</td>\n",
       "      <td>326.250000</td>\n",
       "      <td>309.416656</td>\n",
       "      <td>325.329987</td>\n",
       "      <td>325.329987</td>\n",
       "      <td>75169200</td>\n",
       "      <td>254.155184</td>\n",
       "      <td>0.018237</td>\n",
       "      <td>0.018237</td>\n",
       "      <td>0.000000</td>\n",
       "      <td>0.011516</td>\n",
       "      <td>0.017241</td>\n",
       "      <td>0.667915</td>\n",
       "      <td>40.044918</td>\n",
       "      <td>Yes</td>\n",
       "    </tr>\n",
       "    <tr>\n",
       "      <th>2021-12-16</th>\n",
       "      <td>331.500000</td>\n",
       "      <td>331.660004</td>\n",
       "      <td>307.283325</td>\n",
       "      <td>308.973328</td>\n",
       "      <td>308.973328</td>\n",
       "      <td>82771500</td>\n",
       "      <td>254.664317</td>\n",
       "      <td>-0.050277</td>\n",
       "      <td>0.000000</td>\n",
       "      <td>0.050277</td>\n",
       "      <td>0.010364</td>\n",
       "      <td>0.020545</td>\n",
       "      <td>0.504464</td>\n",
       "      <td>33.531145</td>\n",
       "      <td>Yes</td>\n",
       "    </tr>\n",
       "    <tr>\n",
       "      <th>2021-12-17</th>\n",
       "      <td>304.923340</td>\n",
       "      <td>320.220001</td>\n",
       "      <td>303.013336</td>\n",
       "      <td>310.856659</td>\n",
       "      <td>310.856659</td>\n",
       "      <td>100437300</td>\n",
       "      <td>255.222017</td>\n",
       "      <td>0.006095</td>\n",
       "      <td>0.006095</td>\n",
       "      <td>0.000000</td>\n",
       "      <td>0.009937</td>\n",
       "      <td>0.018490</td>\n",
       "      <td>0.537430</td>\n",
       "      <td>34.956368</td>\n",
       "      <td>Yes</td>\n",
       "    </tr>\n",
       "    <tr>\n",
       "      <th>2021-12-20</th>\n",
       "      <td>303.566681</td>\n",
       "      <td>307.230011</td>\n",
       "      <td>297.796661</td>\n",
       "      <td>299.980011</td>\n",
       "      <td>299.980011</td>\n",
       "      <td>56480100</td>\n",
       "      <td>255.783584</td>\n",
       "      <td>-0.034989</td>\n",
       "      <td>0.000000</td>\n",
       "      <td>0.034989</td>\n",
       "      <td>0.008944</td>\n",
       "      <td>0.020140</td>\n",
       "      <td>0.444063</td>\n",
       "      <td>30.750946</td>\n",
       "      <td>Yes</td>\n",
       "    </tr>\n",
       "    <tr>\n",
       "      <th>2021-12-21</th>\n",
       "      <td>305.623322</td>\n",
       "      <td>313.166656</td>\n",
       "      <td>295.373322</td>\n",
       "      <td>312.843323</td>\n",
       "      <td>312.843323</td>\n",
       "      <td>71517900</td>\n",
       "      <td>256.225167</td>\n",
       "      <td>0.042881</td>\n",
       "      <td>0.042881</td>\n",
       "      <td>0.000000</td>\n",
       "      <td>0.012337</td>\n",
       "      <td>0.018126</td>\n",
       "      <td>0.680629</td>\n",
       "      <td>40.498473</td>\n",
       "      <td>Yes</td>\n",
       "    </tr>\n",
       "  </tbody>\n",
       "</table>\n",
       "<p>116 rows × 15 columns</p>\n",
       "</div>"
      ],
      "text/plain": [
       "                  Open        High         Low       Close   Adj Close  \\\n",
       "Date                                                                     \n",
       "2019-11-26   22.351334   22.366667   21.806667   21.927999   21.927999   \n",
       "2019-11-29   22.073999   22.084000   21.833332   21.996000   21.996000   \n",
       "2019-12-05   22.188667   22.294666   21.816668   22.024668   22.024668   \n",
       "2020-02-27   48.666668   49.318001   44.599998   45.266666   45.266666   \n",
       "2020-02-28   41.980000   46.034668   40.768002   44.532665   44.532665   \n",
       "...                ...         ...         ...         ...         ...   \n",
       "2021-12-15  317.736664  326.250000  309.416656  325.329987  325.329987   \n",
       "2021-12-16  331.500000  331.660004  307.283325  308.973328  308.973328   \n",
       "2021-12-17  304.923340  320.220001  303.013336  310.856659  310.856659   \n",
       "2021-12-20  303.566681  307.230011  297.796661  299.980011  299.980011   \n",
       "2021-12-21  305.623322  313.166656  295.373322  312.843323  312.843323   \n",
       "\n",
       "               Volume       MA200  Price Change    Upmove  Downmove    Avg Up  \\\n",
       "Date                                                                            \n",
       "2019-11-26  119211000   17.048927     -0.022061  0.000000  0.022061  0.009969   \n",
       "2019-11-29   36984000   17.065357     -0.004075  0.000000  0.004075  0.008724   \n",
       "2019-12-05   55869000   17.107743     -0.007987  0.000000  0.007987  0.007135   \n",
       "2020-02-27  364158000   22.786057     -0.128146  0.000000  0.128146  0.020398   \n",
       "2020-02-28  363343500   22.931283     -0.016215  0.000000  0.016215  0.018359   \n",
       "...               ...         ...           ...       ...       ...       ...   \n",
       "2021-12-15   75169200  254.155184      0.018237  0.018237  0.000000  0.011516   \n",
       "2021-12-16   82771500  254.664317     -0.050277  0.000000  0.050277  0.010364   \n",
       "2021-12-17  100437300  255.222017      0.006095  0.006095  0.000000  0.009937   \n",
       "2021-12-20   56480100  255.783584     -0.034989  0.000000  0.034989  0.008944   \n",
       "2021-12-21   71517900  256.225167      0.042881  0.042881  0.000000  0.012337   \n",
       "\n",
       "            Avg Down        RS        RSI  Buy  \n",
       "Date                                            \n",
       "2019-11-26  0.010313  0.966709  49.153626  Yes  \n",
       "2019-11-29  0.008761  0.995765  49.893911  Yes  \n",
       "2019-12-05  0.007395  0.964750  49.102949  Yes  \n",
       "2020-02-27  0.029836  0.683677  40.606191  Yes  \n",
       "2020-02-28  0.028474  0.644744  39.200273  Yes  \n",
       "...              ...       ...        ...  ...  \n",
       "2021-12-15  0.017241  0.667915  40.044918  Yes  \n",
       "2021-12-16  0.020545  0.504464  33.531145  Yes  \n",
       "2021-12-17  0.018490  0.537430  34.956368  Yes  \n",
       "2021-12-20  0.020140  0.444063  30.750946  Yes  \n",
       "2021-12-21  0.018126  0.680629  40.498473  Yes  \n",
       "\n",
       "[116 rows x 15 columns]"
      ]
     },
     "execution_count": 71,
     "metadata": {},
     "output_type": "execute_result"
    }
   ],
   "source": [
    "df = pd.DataFrame()\n",
    "df = RSIcalc(stock)\n",
    "df.query('Close > MA200 & RSI < 50')"
   ]
  },
  {
   "cell_type": "code",
   "execution_count": 57,
   "id": "d6cb8a69",
   "metadata": {},
   "outputs": [],
   "source": [
    "def getSignals(df):\n",
    "    Buying_dates = []\n",
    "    Selling_dates =[]\n",
    "    \n",
    "    for i in range(len(df)):\n",
    "        if \"Yes\" in df['Buy'].iloc[i]:\n",
    "            Buying_dates.append(df.iloc[i+1].name)\n",
    "            for j in range(1,11):\n",
    "                if df['RSI'].iloc[i + j] > 60:\n",
    "                    Selling_dates.append(df.iloc[i+j+1].name)\n",
    "                    break\n",
    "                elif j==10:\n",
    "                    Selling_dates.append(df.iloc[i+j+1].name)\n",
    "            \n",
    "                    \n",
    "    return Buying_dates, Selling_dates    "
   ]
  },
  {
   "cell_type": "code",
   "execution_count": 58,
   "id": "53dc08d7",
   "metadata": {},
   "outputs": [
    {
     "name": "stdout",
     "output_type": "stream",
     "text": [
      "[*********************100%***********************]  1 of 1 completed\n"
     ]
    }
   ],
   "source": [
    "frame = RSIcalc(stock)\n",
    "Buy, Sell = getSignals(frame)"
   ]
  },
  {
   "cell_type": "code",
   "execution_count": 59,
   "id": "17d72c34",
   "metadata": {
    "scrolled": false
   },
   "outputs": [
    {
     "data": {
      "text/plain": [
       "[<matplotlib.lines.Line2D at 0x1c94b2f3b50>]"
      ]
     },
     "execution_count": 59,
     "metadata": {},
     "output_type": "execute_result"
    },
    {
     "data": {
      "image/png": "[encoded data removed]",
      "text/plain": [
       "<Figure size 864x360 with 1 Axes>"
      ]
     },
     "metadata": {
      "needs_background": "light"
     },
     "output_type": "display_data"
    }
   ],
   "source": [
    "plt.figure(figsize=(12,5))\n",
    "plt.scatter(frame.loc[Buy].index , frame.loc[Buy]['Adj Close'], marker='^',c='g')\n",
    "plt.plot(frame['Adj Close'], alpha=0.7)"
   ]
  },
  {
   "cell_type": "code",
   "execution_count": 60,
   "id": "8c70ce1b",
   "metadata": {},
   "outputs": [],
   "source": [
    "Profits = (frame.loc[Sell].Open.values - frame.loc[Buy].Open.values)/(frame.loc[Buy].Open.values)"
   ]
  },
  {
   "cell_type": "code",
   "execution_count": 61,
   "id": "2e9582bd",
   "metadata": {
    "scrolled": true
   },
   "outputs": [
    {
     "data": {
      "text/plain": [
       "array([ 6.26963378e-02,  6.82453886e-02,  5.03881682e-02, -5.51055653e-02,\n",
       "       -3.39903826e-01, -3.64927541e-01, -2.83767458e-01, -2.76193112e-01,\n",
       "       -1.48313069e-01, -5.76701309e-02, -1.51260499e-01,  8.68158087e-02,\n",
       "        1.39178713e-01,  2.95629806e-01,  1.62711116e-01,  1.78966810e-01,\n",
       "        1.41839485e-01,  1.64145328e-02,  1.77376567e-01,  2.26867337e-01,\n",
       "        1.58312105e-01,  1.54460084e-01,  1.54011490e-01,  9.59183829e-02,\n",
       "        2.33510945e-01,  1.38940007e-01,  1.51673080e-01,  1.58301229e-01,\n",
       "        7.09584325e-02,  1.87366892e-02, -3.08201150e-02,  3.38043468e-02,\n",
       "        6.77063831e-02, -8.66052268e-03, -7.19927053e-05,  1.24158735e-02,\n",
       "        9.70753750e-03,  3.78934226e-02,  1.23105509e-01,  7.65998178e-02,\n",
       "        8.02312277e-02,  9.12741897e-02,  9.63979138e-02, -2.56861755e-02,\n",
       "        7.70364522e-02, -1.38397901e-01, -1.38719027e-01, -1.21907059e-01,\n",
       "       -1.16931246e-01, -1.60199707e-01, -2.12503167e-01, -2.12538021e-01,\n",
       "       -8.14794837e-02, -1.62253536e-02, -3.68381394e-02, -4.28571438e-02,\n",
       "        5.76716823e-03, -2.07857771e-02, -4.52332303e-02,  4.34430835e-02,\n",
       "        3.28084203e-02,  1.39938403e-01,  1.11134854e-01, -4.62515836e-02,\n",
       "       -1.23534472e-01, -1.56043286e-02,  9.45097175e-02,  8.34076837e-03,\n",
       "        1.66180737e-02,  1.41785356e-02,  1.05660745e-01,  6.82848586e-02,\n",
       "        1.57657069e-01,  2.80764439e-01,  1.91890145e-01, -1.34863099e-01,\n",
       "       -1.40055163e-01, -1.26095348e-01, -1.63401818e-01, -1.88691169e-01,\n",
       "       -1.55355750e-01, -1.04671053e-01, -1.25281980e-01,  1.34669936e-02,\n",
       "        8.41508951e-03,  3.10868969e-02,  9.07826737e-02, -8.46355163e-03,\n",
       "       -6.05702788e-03,  1.49545256e-04,  9.22227309e-02, -1.30621761e-02,\n",
       "        2.60890609e-02,  6.64719160e-02,  3.03225339e-02,  3.92969522e-02,\n",
       "        3.19369211e-02,  3.38109258e-02,  8.97035363e-02,  9.44382004e-02,\n",
       "        7.34421589e-02,  6.93860855e-02,  5.21645888e-02,  1.58495334e-01,\n",
       "       -9.06730499e-02, -1.21940311e-01, -8.26913310e-02,  6.43569209e-02,\n",
       "        7.25010545e-02,  1.36158777e-01,  1.26373049e-01,  7.96078873e-02,\n",
       "        1.73704889e-01,  1.78950251e-01,  1.71016704e-01,  1.11851038e-01])"
      ]
     },
     "execution_count": 61,
     "metadata": {},
     "output_type": "execute_result"
    }
   ],
   "source": [
    "Profits"
   ]
  },
  {
   "cell_type": "code",
   "execution_count": 62,
   "id": "149fb0f2",
   "metadata": {},
   "outputs": [],
   "source": [
    "Comisiones = 0.0025"
   ]
  },
  {
   "cell_type": "code",
   "execution_count": 63,
   "id": "d8fb4c6d",
   "metadata": {
    "scrolled": false
   },
   "outputs": [
    {
     "data": {
      "text/html": [
       "<div>\n",
       "<style scoped>\n",
       "    .dataframe tbody tr th:only-of-type {\n",
       "        vertical-align: middle;\n",
       "    }\n",
       "\n",
       "    .dataframe tbody tr th {\n",
       "        vertical-align: top;\n",
       "    }\n",
       "\n",
       "    .dataframe thead th {\n",
       "        text-align: right;\n",
       "    }\n",
       "</style>\n",
       "<table border=\"1\" class=\"dataframe\">\n",
       "  <thead>\n",
       "    <tr style=\"text-align: right;\">\n",
       "      <th></th>\n",
       "      <th>Rendimientos</th>\n",
       "      <th>Utilidad</th>\n",
       "      <th>Monto</th>\n",
       "    </tr>\n",
       "  </thead>\n",
       "  <tbody>\n",
       "    <tr>\n",
       "      <th>0</th>\n",
       "      <td>0.062696</td>\n",
       "      <td>0.060196</td>\n",
       "      <td>1062696.338</td>\n",
       "    </tr>\n",
       "    <tr>\n",
       "      <th>1</th>\n",
       "      <td>0.068245</td>\n",
       "      <td>0.065745</td>\n",
       "      <td>1135220.462</td>\n",
       "    </tr>\n",
       "    <tr>\n",
       "      <th>2</th>\n",
       "      <td>0.050388</td>\n",
       "      <td>0.047888</td>\n",
       "      <td>1192422.142</td>\n",
       "    </tr>\n",
       "    <tr>\n",
       "      <th>3</th>\n",
       "      <td>-0.055106</td>\n",
       "      <td>-0.057606</td>\n",
       "      <td>1126713.046</td>\n",
       "    </tr>\n",
       "    <tr>\n",
       "      <th>4</th>\n",
       "      <td>-0.339904</td>\n",
       "      <td>-0.342404</td>\n",
       "      <td>743738.971</td>\n",
       "    </tr>\n",
       "    <tr>\n",
       "      <th>...</th>\n",
       "      <td>...</td>\n",
       "      <td>...</td>\n",
       "      <td>...</td>\n",
       "    </tr>\n",
       "    <tr>\n",
       "      <th>111</th>\n",
       "      <td>0.079608</td>\n",
       "      <td>0.077108</td>\n",
       "      <td>2110471.942</td>\n",
       "    </tr>\n",
       "    <tr>\n",
       "      <th>112</th>\n",
       "      <td>0.173705</td>\n",
       "      <td>0.171205</td>\n",
       "      <td>2477071.235</td>\n",
       "    </tr>\n",
       "    <tr>\n",
       "      <th>113</th>\n",
       "      <td>0.178950</td>\n",
       "      <td>0.176450</td>\n",
       "      <td>2920343.755</td>\n",
       "    </tr>\n",
       "    <tr>\n",
       "      <th>114</th>\n",
       "      <td>0.171017</td>\n",
       "      <td>0.168517</td>\n",
       "      <td>3419771.318</td>\n",
       "    </tr>\n",
       "    <tr>\n",
       "      <th>115</th>\n",
       "      <td>0.111851</td>\n",
       "      <td>0.109351</td>\n",
       "      <td>3802276.291</td>\n",
       "    </tr>\n",
       "  </tbody>\n",
       "</table>\n",
       "<p>116 rows × 3 columns</p>\n",
       "</div>"
      ],
      "text/plain": [
       "     Rendimientos  Utilidad        Monto\n",
       "0        0.062696  0.060196  1062696.338\n",
       "1        0.068245  0.065745  1135220.462\n",
       "2        0.050388  0.047888  1192422.142\n",
       "3       -0.055106 -0.057606  1126713.046\n",
       "4       -0.339904 -0.342404   743738.971\n",
       "..            ...       ...          ...\n",
       "111      0.079608  0.077108  2110471.942\n",
       "112      0.173705  0.171205  2477071.235\n",
       "113      0.178950  0.176450  2920343.755\n",
       "114      0.171017  0.168517  3419771.318\n",
       "115      0.111851  0.109351  3802276.291\n",
       "\n",
       "[116 rows x 3 columns]"
      ]
     },
     "execution_count": 63,
     "metadata": {},
     "output_type": "execute_result"
    }
   ],
   "source": [
    "dfr = pd.DataFrame()\n",
    "dfr['Rendimientos'] = Profits\n",
    "dfr['Utilidad'] = dfr['Rendimientos']-Comisiones\n",
    "\n",
    "capital = 1000000\n",
    "Monto = [1000000]\n",
    "\n",
    "\n",
    "\n",
    "for i in range(len(dfr)):\n",
    "    valor = Monto[-1]*(1+dfr['Rendimientos'][i])\n",
    "    Monto.append(valor)\n",
    "    \n",
    "del Monto[0]\n",
    "    \n",
    "dfr['Monto'] = np.round(Monto,3)\n",
    "dfr"
   ]
  },
  {
   "cell_type": "code",
   "execution_count": 64,
   "id": "2530bd31",
   "metadata": {},
   "outputs": [
    {
     "data": {
      "image/png": "[encoded data removed]",
      "text/plain": [
       "<Figure size 432x288 with 1 Axes>"
      ]
     },
     "metadata": {
      "needs_background": "light"
     },
     "output_type": "display_data"
    }
   ],
   "source": [
    "plt.bar(dfr.index, dfr.Rendimientos,width=0.6)\n",
    "plt.xlabel(\"Posición\")\n",
    "plt.ylabel(\"Rendimientos\")\n",
    "plt.title(\"Rendimiento por posición\")\n",
    "plt.show()"
   ]
  },
  {
   "cell_type": "code",
   "execution_count": 65,
   "id": "904448fe",
   "metadata": {},
   "outputs": [],
   "source": [
    "wins = [i for i in Profits if i > 0]"
   ]
  },
  {
   "cell_type": "code",
   "execution_count": 66,
   "id": "037f8790",
   "metadata": {},
   "outputs": [
    {
     "data": {
      "text/plain": [
       "0.6379310344827587"
      ]
     },
     "execution_count": 66,
     "metadata": {},
     "output_type": "execute_result"
    }
   ],
   "source": [
    "len(wins)/len(Profits)"
   ]
  },
  {
   "cell_type": "code",
   "execution_count": 67,
   "id": "44c478d3",
   "metadata": {},
   "outputs": [
    {
     "data": {
      "text/plain": [
       "Monto    3422048.662\n",
       "Name: 115, dtype: float64"
      ]
     },
     "execution_count": 67,
     "metadata": {},
     "output_type": "execute_result"
    }
   ],
   "source": [
    "impuestos = 0.1\n",
    "ultimo = dfr[['Monto']].iloc[-1]\n",
    "ultimo = ultimo * (1-impuestos)\n",
    "np.round(ultimo,3)"
   ]
  },
  {
   "cell_type": "code",
   "execution_count": 68,
   "id": "6e22f0cc",
   "metadata": {},
   "outputs": [
    {
     "data": {
      "text/plain": [
       "Monto    2.422049\n",
       "Name: 115, dtype: float64"
      ]
     },
     "execution_count": 68,
     "metadata": {},
     "output_type": "execute_result"
    }
   ],
   "source": [
    "(ultimo - capital) / capital"
   ]
  },
  {
   "cell_type": "markdown",
   "id": "2bf44b68",
   "metadata": {},
   "source": [
    "## VARIOS ACTIVOS"
   ]
  },
  {
   "cell_type": "code",
   "execution_count": 70,
   "id": "d62fd0c2",
   "metadata": {},
   "outputs": [
    {
     "name": "stdout",
     "output_type": "stream",
     "text": [
      "[*********************100%***********************]  1 of 1 completed\n"
     ]
    },
    {
     "ename": "ValueError",
     "evalue": "Unable to coerce to Series, length must be 15: given 116",
     "output_type": "error",
     "traceback": [
      "\u001b[1;31m---------------------------------------------------------------------------\u001b[0m",
      "\u001b[1;31mValueError\u001b[0m                                Traceback (most recent call last)",
      "Input \u001b[1;32mIn [70]\u001b[0m, in \u001b[0;36m<cell line: 6>\u001b[1;34m()\u001b[0m\n\u001b[0;32m      7\u001b[0m frame \u001b[38;5;241m=\u001b[39m RSIcalc(tickers[i])\n\u001b[0;32m      8\u001b[0m buy,sell \u001b[38;5;241m=\u001b[39m getSignals(frame)\n\u001b[1;32m----> 9\u001b[0m Profits \u001b[38;5;241m=\u001b[39m (frame\u001b[38;5;241m.\u001b[39mloc[sell]\u001b[38;5;241m.\u001b[39mOpen\u001b[38;5;241m.\u001b[39mvalues \u001b[38;5;241m-\u001b[39m \u001b[43mframe\u001b[49m\u001b[38;5;241;43m.\u001b[39;49m\u001b[43mloc\u001b[49m\u001b[43m[\u001b[49m\u001b[43mbuy\u001b[49m\u001b[43m]\u001b[49m\u001b[43m \u001b[49m\u001b[38;5;241;43m/\u001b[39;49m\u001b[43m \u001b[49m\u001b[43mframe\u001b[49m\u001b[38;5;241;43m.\u001b[39;49m\u001b[43mloc\u001b[49m\u001b[43m[\u001b[49m\u001b[43msell\u001b[49m\u001b[43m]\u001b[49m\u001b[38;5;241;43m.\u001b[39;49m\u001b[43mOpen\u001b[49m\u001b[38;5;241;43m.\u001b[39;49m\u001b[43mvalues\u001b[49m)\n\u001b[0;32m     10\u001b[0m matrixsignals\u001b[38;5;241m.\u001b[39mappend(Profits)\n",
      "File \u001b[1;32m~\\anaconda3\\lib\\site-packages\\pandas\\core\\ops\\common.py:70\u001b[0m, in \u001b[0;36m_unpack_zerodim_and_defer.<locals>.new_method\u001b[1;34m(self, other)\u001b[0m\n\u001b[0;32m     66\u001b[0m             \u001b[38;5;28;01mreturn\u001b[39;00m \u001b[38;5;28mNotImplemented\u001b[39m\n\u001b[0;32m     68\u001b[0m other \u001b[38;5;241m=\u001b[39m item_from_zerodim(other)\n\u001b[1;32m---> 70\u001b[0m \u001b[38;5;28;01mreturn\u001b[39;00m \u001b[43mmethod\u001b[49m\u001b[43m(\u001b[49m\u001b[38;5;28;43mself\u001b[39;49m\u001b[43m,\u001b[49m\u001b[43m \u001b[49m\u001b[43mother\u001b[49m\u001b[43m)\u001b[49m\n",
      "File \u001b[1;32m~\\anaconda3\\lib\\site-packages\\pandas\\core\\arraylike.py:124\u001b[0m, in \u001b[0;36mOpsMixin.__truediv__\u001b[1;34m(self, other)\u001b[0m\n\u001b[0;32m    122\u001b[0m \u001b[38;5;129m@unpack_zerodim_and_defer\u001b[39m(\u001b[38;5;124m\"\u001b[39m\u001b[38;5;124m__truediv__\u001b[39m\u001b[38;5;124m\"\u001b[39m)\n\u001b[0;32m    123\u001b[0m \u001b[38;5;28;01mdef\u001b[39;00m \u001b[38;5;21m__truediv__\u001b[39m(\u001b[38;5;28mself\u001b[39m, other):\n\u001b[1;32m--> 124\u001b[0m     \u001b[38;5;28;01mreturn\u001b[39;00m \u001b[38;5;28;43mself\u001b[39;49m\u001b[38;5;241;43m.\u001b[39;49m\u001b[43m_arith_method\u001b[49m\u001b[43m(\u001b[49m\u001b[43mother\u001b[49m\u001b[43m,\u001b[49m\u001b[43m \u001b[49m\u001b[43moperator\u001b[49m\u001b[38;5;241;43m.\u001b[39;49m\u001b[43mtruediv\u001b[49m\u001b[43m)\u001b[49m\n",
      "File \u001b[1;32m~\\anaconda3\\lib\\site-packages\\pandas\\core\\frame.py:6944\u001b[0m, in \u001b[0;36mDataFrame._arith_method\u001b[1;34m(self, other, op)\u001b[0m\n\u001b[0;32m   6941\u001b[0m axis \u001b[38;5;241m=\u001b[39m \u001b[38;5;241m1\u001b[39m  \u001b[38;5;66;03m# only relevant for Series other case\u001b[39;00m\n\u001b[0;32m   6942\u001b[0m other \u001b[38;5;241m=\u001b[39m ops\u001b[38;5;241m.\u001b[39mmaybe_prepare_scalar_for_op(other, (\u001b[38;5;28mself\u001b[39m\u001b[38;5;241m.\u001b[39mshape[axis],))\n\u001b[1;32m-> 6944\u001b[0m \u001b[38;5;28mself\u001b[39m, other \u001b[38;5;241m=\u001b[39m \u001b[43mops\u001b[49m\u001b[38;5;241;43m.\u001b[39;49m\u001b[43malign_method_FRAME\u001b[49m\u001b[43m(\u001b[49m\u001b[38;5;28;43mself\u001b[39;49m\u001b[43m,\u001b[49m\u001b[43m \u001b[49m\u001b[43mother\u001b[49m\u001b[43m,\u001b[49m\u001b[43m \u001b[49m\u001b[43maxis\u001b[49m\u001b[43m,\u001b[49m\u001b[43m \u001b[49m\u001b[43mflex\u001b[49m\u001b[38;5;241;43m=\u001b[39;49m\u001b[38;5;28;43;01mTrue\u001b[39;49;00m\u001b[43m,\u001b[49m\u001b[43m \u001b[49m\u001b[43mlevel\u001b[49m\u001b[38;5;241;43m=\u001b[39;49m\u001b[38;5;28;43;01mNone\u001b[39;49;00m\u001b[43m)\u001b[49m\n\u001b[0;32m   6946\u001b[0m new_data \u001b[38;5;241m=\u001b[39m \u001b[38;5;28mself\u001b[39m\u001b[38;5;241m.\u001b[39m_dispatch_frame_op(other, op, axis\u001b[38;5;241m=\u001b[39maxis)\n\u001b[0;32m   6947\u001b[0m \u001b[38;5;28;01mreturn\u001b[39;00m \u001b[38;5;28mself\u001b[39m\u001b[38;5;241m.\u001b[39m_construct_result(new_data)\n",
      "File \u001b[1;32m~\\anaconda3\\lib\\site-packages\\pandas\\core\\ops\\__init__.py:248\u001b[0m, in \u001b[0;36malign_method_FRAME\u001b[1;34m(left, right, axis, flex, level)\u001b[0m\n\u001b[0;32m    245\u001b[0m \u001b[38;5;28;01mif\u001b[39;00m \u001b[38;5;28misinstance\u001b[39m(right, np\u001b[38;5;241m.\u001b[39mndarray):\n\u001b[0;32m    247\u001b[0m     \u001b[38;5;28;01mif\u001b[39;00m right\u001b[38;5;241m.\u001b[39mndim \u001b[38;5;241m==\u001b[39m \u001b[38;5;241m1\u001b[39m:\n\u001b[1;32m--> 248\u001b[0m         right \u001b[38;5;241m=\u001b[39m \u001b[43mto_series\u001b[49m\u001b[43m(\u001b[49m\u001b[43mright\u001b[49m\u001b[43m)\u001b[49m\n\u001b[0;32m    250\u001b[0m     \u001b[38;5;28;01melif\u001b[39;00m right\u001b[38;5;241m.\u001b[39mndim \u001b[38;5;241m==\u001b[39m \u001b[38;5;241m2\u001b[39m:\n\u001b[0;32m    251\u001b[0m         \u001b[38;5;28;01mif\u001b[39;00m right\u001b[38;5;241m.\u001b[39mshape \u001b[38;5;241m==\u001b[39m left\u001b[38;5;241m.\u001b[39mshape:\n",
      "File \u001b[1;32m~\\anaconda3\\lib\\site-packages\\pandas\\core\\ops\\__init__.py:239\u001b[0m, in \u001b[0;36malign_method_FRAME.<locals>.to_series\u001b[1;34m(right)\u001b[0m\n\u001b[0;32m    237\u001b[0m \u001b[38;5;28;01melse\u001b[39;00m:\n\u001b[0;32m    238\u001b[0m     \u001b[38;5;28;01mif\u001b[39;00m \u001b[38;5;28mlen\u001b[39m(left\u001b[38;5;241m.\u001b[39mcolumns) \u001b[38;5;241m!=\u001b[39m \u001b[38;5;28mlen\u001b[39m(right):\n\u001b[1;32m--> 239\u001b[0m         \u001b[38;5;28;01mraise\u001b[39;00m \u001b[38;5;167;01mValueError\u001b[39;00m(\n\u001b[0;32m    240\u001b[0m             msg\u001b[38;5;241m.\u001b[39mformat(req_len\u001b[38;5;241m=\u001b[39m\u001b[38;5;28mlen\u001b[39m(left\u001b[38;5;241m.\u001b[39mcolumns), given_len\u001b[38;5;241m=\u001b[39m\u001b[38;5;28mlen\u001b[39m(right))\n\u001b[0;32m    241\u001b[0m         )\n\u001b[0;32m    242\u001b[0m     right \u001b[38;5;241m=\u001b[39m left\u001b[38;5;241m.\u001b[39m_constructor_sliced(right, index\u001b[38;5;241m=\u001b[39mleft\u001b[38;5;241m.\u001b[39mcolumns)\n\u001b[0;32m    243\u001b[0m \u001b[38;5;28;01mreturn\u001b[39;00m right\n",
      "\u001b[1;31mValueError\u001b[0m: Unable to coerce to Series, length must be 15: given 116"
     ]
    }
   ],
   "source": [
    "tickers = ['TSLA', 'AAPL', ' GOOG', 'AMZN', 'XOM', 'TQQQ', 'VOO']\n",
    "\n",
    "matrixsignals = []\n",
    "matrixprofits = []\n",
    "\n",
    "for i in range(len(tickers)):\n",
    "    frame = RSIcalc(tickers[i])\n",
    "    buy,sell = getSignals(frame)\n",
    "    Profits = (frame.loc[sell].Open.values - frame.loc[buy] / frame.loc[sell].Open.values)\n",
    "    matrixsignals.append(Profits)"
   ]
  },
  {
   "cell_type": "code",
   "execution_count": null,
   "id": "16bf4195",
   "metadata": {},
   "outputs": [],
   "source": []
  }
 ],
 "metadata": {
  "kernelspec": {
   "display_name": "Python 3 (ipykernel)",
   "language": "python",
   "name": "python3"
  },
  "language_info": {
   "codemirror_mode": {
    "name": "ipython",
    "version": 3
   },
   "file_extension": ".py",
   "mimetype": "text/x-python",
   "name": "python",
   "nbconvert_exporter": "python",
   "pygments_lexer": "ipython3",
   "version": "3.9.12"
  }
 },
 "nbformat": 4,
 "nbformat_minor": 5
}
