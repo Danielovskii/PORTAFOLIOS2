{
 "cells": [
  {
   "cell_type": "markdown",
   "id": "87cf8a54",
   "metadata": {},
   "source": [
    "# Proyecto parte 1"
   ]
  },
  {
   "cell_type": "markdown",
   "id": "7ef67e7c",
   "metadata": {},
   "source": [
    "## Introducción "
   ]
  },
  {
   "cell_type": "markdown",
   "id": "b7b7a27d",
   "metadata": {},
   "source": [
    "## Elección de activos"
   ]
  },
  {
   "cell_type": "code",
   "execution_count": 5,
   "id": "e799bc91",
   "metadata": {},
   "outputs": [],
   "source": [
    "import pandas as pd\n",
    "import numpy as np\n",
    "import matplotlib.pyplot as plt\n",
    "import yfinance as yf\n",
    "import random\n",
    "from sklearn import linear_model"
   ]
  },
  {
   "cell_type": "code",
   "execution_count": 11,
   "id": "e2f1db65",
   "metadata": {},
   "outputs": [
    {
     "name": "stdout",
     "output_type": "stream",
     "text": [
      "[*********************100%***********************]  15 of 15 completed\n"
     ]
    }
   ],
   "source": [
    "# Get tickers \n",
    "tickers = ['TSLA','AAPL','GOOGL','XOM','SHEL','CVX','STKH','CALM','TSN','PFE','CVS','UNH','TQQQ','VOO','SQQQ']\n",
    "start_date = '2015-01-01'\n",
    "end_date = \"2023-01-01\"\n",
    "\n",
    "# Descargar precios y graficar\n",
    "St = yf.download(tickers, start=start_date)['Close']\n"
   ]
  },
  {
   "cell_type": "markdown",
   "id": "3289636e",
   "metadata": {},
   "source": [
    "###  - Market beta"
   ]
  },
  {
   "cell_type": "code",
   "execution_count": null,
   "id": "1a635b8f",
   "metadata": {},
   "outputs": [],
   "source": []
  },
  {
   "cell_type": "markdown",
   "id": "43770735",
   "metadata": {},
   "source": [
    "### - R2"
   ]
  },
  {
   "cell_type": "code",
   "execution_count": null,
   "id": "2f3ab13f",
   "metadata": {},
   "outputs": [],
   "source": []
  },
  {
   "cell_type": "markdown",
   "id": "83c60cef",
   "metadata": {},
   "source": [
    "### - BootStrap R2 y Beta"
   ]
  },
  {
   "cell_type": "code",
   "execution_count": null,
   "id": "b90d10b6",
   "metadata": {},
   "outputs": [],
   "source": []
  },
  {
   "cell_type": "markdown",
   "id": "5d40dbaa",
   "metadata": {},
   "source": [
    "### - Analisis de la acción"
   ]
  },
  {
   "cell_type": "code",
   "execution_count": null,
   "id": "52dcc82b",
   "metadata": {},
   "outputs": [],
   "source": []
  }
 ],
 "metadata": {
  "kernelspec": {
   "display_name": "Python 3 (ipykernel)",
   "language": "python",
   "name": "python3"
  },
  "language_info": {
   "codemirror_mode": {
    "name": "ipython",
    "version": 3
   },
   "file_extension": ".py",
   "mimetype": "text/x-python",
   "name": "python",
   "nbconvert_exporter": "python",
   "pygments_lexer": "ipython3",
   "version": "3.9.13"
  }
 },
 "nbformat": 4,
 "nbformat_minor": 5
}
