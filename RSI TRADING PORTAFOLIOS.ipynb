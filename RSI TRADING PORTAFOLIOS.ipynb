{
 "cells": [
  {
   "cell_type": "code",
   "execution_count": 3,
   "id": "4c0d8a98",
   "metadata": {},
   "outputs": [],
   "source": [
    "import pandas as pd\n",
    "import yfinance as yf\n",
    "import numpy as np\n",
    "import matplotlib.pyplot as plt\n",
    "%matplotlib inline\n",
    "pd.options.mode.chained_assignment = None"
   ]
  },
  {
   "cell_type": "code",
   "execution_count": null,
   "id": "8ef1d595",
   "metadata": {},
   "outputs": [],
   "source": [
    "start_date = '2019-01-01'\n",
    "end_date = '2023-01-01'"
   ]
  },
  {
   "cell_type": "code",
   "execution_count": 17,
   "id": "1b31a776",
   "metadata": {},
   "outputs": [],
   "source": [
    "def RSIcalc(asset): #names\n",
    "    df = yf.download(asset,start=start_date, end = end_date)\n",
    "    df['MA200'] = df['Adj Close'].rolling(window=200).mean()\n",
    "    df['Price Change'] = df['Adj Close'].pct_change()\n",
    "    df['Upmove'] = df['Price Change'].apply(lambda x: x if x>0 else 0)\n",
    "    df['Downmove'] = df['Price Change'].apply(lambda x: abs(x) if x<0 else 0)\n",
    "    df['Avg Up'] = df[\"Upmove\"].ewm(span=19).mean()\n",
    "    df['Avg Down'] = df[\"Downmove\"].ewm(span=19).mean()\n",
    "    df = df.dropna()\n",
    "    df['RS'] = (df['Avg Up']/df['Avg Down'])\n",
    "    df['RSI']= df['RS'].apply(lambda x: 100-(100/(x+1)))\n",
    "    df.loc[(df['Adj Close'] > df['MA200']) & (df['RSI']<45), 'Buy'] = 'Yes'\n",
    "    df.loc[(df['Adj Close'] < df['MA200']) | (df['RSI']>45), 'Buy'] = 'No'\n",
    "    return df"
   ]
  },
  {
   "cell_type": "code",
   "execution_count": 18,
   "id": "2bcdb247",
   "metadata": {},
   "outputs": [],
   "source": [
    "stock = 'TSLA'"
   ]
  },
  {
   "cell_type": "code",
   "execution_count": 20,
   "id": "a43a0ad6",
   "metadata": {
    "scrolled": true
   },
   "outputs": [
    {
     "name": "stdout",
     "output_type": "stream",
     "text": [
      "[*********************100%***********************]  1 of 1 completed\n"
     ]
    },
    {
     "data": {
      "text/html": [
       "<div>\n",
       "<style scoped>\n",
       "    .dataframe tbody tr th:only-of-type {\n",
       "        vertical-align: middle;\n",
       "    }\n",
       "\n",
       "    .dataframe tbody tr th {\n",
       "        vertical-align: top;\n",
       "    }\n",
       "\n",
       "    .dataframe thead th {\n",
       "        text-align: right;\n",
       "    }\n",
       "</style>\n",
       "<table border=\"1\" class=\"dataframe\">\n",
       "  <thead>\n",
       "    <tr style=\"text-align: right;\">\n",
       "      <th></th>\n",
       "      <th>Open</th>\n",
       "      <th>High</th>\n",
       "      <th>Low</th>\n",
       "      <th>Close</th>\n",
       "      <th>Adj Close</th>\n",
       "      <th>Volume</th>\n",
       "      <th>MA200</th>\n",
       "      <th>Price Change</th>\n",
       "      <th>Upmove</th>\n",
       "      <th>Downmove</th>\n",
       "      <th>Avg Up</th>\n",
       "      <th>Avg Down</th>\n",
       "      <th>RS</th>\n",
       "      <th>RSI</th>\n",
       "      <th>Buy</th>\n",
       "    </tr>\n",
       "    <tr>\n",
       "      <th>Date</th>\n",
       "      <th></th>\n",
       "      <th></th>\n",
       "      <th></th>\n",
       "      <th></th>\n",
       "      <th></th>\n",
       "      <th></th>\n",
       "      <th></th>\n",
       "      <th></th>\n",
       "      <th></th>\n",
       "      <th></th>\n",
       "      <th></th>\n",
       "      <th></th>\n",
       "      <th></th>\n",
       "      <th></th>\n",
       "      <th></th>\n",
       "    </tr>\n",
       "  </thead>\n",
       "  <tbody>\n",
       "    <tr>\n",
       "      <th>2020-02-27</th>\n",
       "      <td>48.666668</td>\n",
       "      <td>49.318001</td>\n",
       "      <td>44.599998</td>\n",
       "      <td>45.266666</td>\n",
       "      <td>45.266666</td>\n",
       "      <td>364158000</td>\n",
       "      <td>22.786057</td>\n",
       "      <td>-0.128146</td>\n",
       "      <td>0.000000</td>\n",
       "      <td>0.128146</td>\n",
       "      <td>0.020398</td>\n",
       "      <td>0.029836</td>\n",
       "      <td>0.683677</td>\n",
       "      <td>40.606191</td>\n",
       "      <td>Yes</td>\n",
       "    </tr>\n",
       "    <tr>\n",
       "      <th>2020-02-28</th>\n",
       "      <td>41.980000</td>\n",
       "      <td>46.034668</td>\n",
       "      <td>40.768002</td>\n",
       "      <td>44.532665</td>\n",
       "      <td>44.532665</td>\n",
       "      <td>363343500</td>\n",
       "      <td>22.931283</td>\n",
       "      <td>-0.016215</td>\n",
       "      <td>0.000000</td>\n",
       "      <td>0.016215</td>\n",
       "      <td>0.018359</td>\n",
       "      <td>0.028474</td>\n",
       "      <td>0.644744</td>\n",
       "      <td>39.200273</td>\n",
       "      <td>Yes</td>\n",
       "    </tr>\n",
       "    <tr>\n",
       "      <th>2020-03-06</th>\n",
       "      <td>46.000000</td>\n",
       "      <td>47.133331</td>\n",
       "      <td>45.618000</td>\n",
       "      <td>46.898666</td>\n",
       "      <td>46.898666</td>\n",
       "      <td>189943500</td>\n",
       "      <td>23.792917</td>\n",
       "      <td>-0.029067</td>\n",
       "      <td>0.000000</td>\n",
       "      <td>0.029067</td>\n",
       "      <td>0.018888</td>\n",
       "      <td>0.022718</td>\n",
       "      <td>0.831414</td>\n",
       "      <td>45.397386</td>\n",
       "      <td>No</td>\n",
       "    </tr>\n",
       "    <tr>\n",
       "      <th>2020-03-09</th>\n",
       "      <td>40.359333</td>\n",
       "      <td>44.200001</td>\n",
       "      <td>40.333332</td>\n",
       "      <td>40.533333</td>\n",
       "      <td>40.533333</td>\n",
       "      <td>256105500</td>\n",
       "      <td>23.931340</td>\n",
       "      <td>-0.135725</td>\n",
       "      <td>0.000000</td>\n",
       "      <td>0.135725</td>\n",
       "      <td>0.016999</td>\n",
       "      <td>0.034018</td>\n",
       "      <td>0.499700</td>\n",
       "      <td>33.319983</td>\n",
       "      <td>Yes</td>\n",
       "    </tr>\n",
       "    <tr>\n",
       "      <th>2020-03-10</th>\n",
       "      <td>43.962002</td>\n",
       "      <td>44.533333</td>\n",
       "      <td>40.533333</td>\n",
       "      <td>43.021999</td>\n",
       "      <td>43.021999</td>\n",
       "      <td>233916000</td>\n",
       "      <td>24.081287</td>\n",
       "      <td>0.061398</td>\n",
       "      <td>0.061398</td>\n",
       "      <td>0.000000</td>\n",
       "      <td>0.021439</td>\n",
       "      <td>0.030617</td>\n",
       "      <td>0.700238</td>\n",
       "      <td>41.184718</td>\n",
       "      <td>Yes</td>\n",
       "    </tr>\n",
       "    <tr>\n",
       "      <th>...</th>\n",
       "      <td>...</td>\n",
       "      <td>...</td>\n",
       "      <td>...</td>\n",
       "      <td>...</td>\n",
       "      <td>...</td>\n",
       "      <td>...</td>\n",
       "      <td>...</td>\n",
       "      <td>...</td>\n",
       "      <td>...</td>\n",
       "      <td>...</td>\n",
       "      <td>...</td>\n",
       "      <td>...</td>\n",
       "      <td>...</td>\n",
       "      <td>...</td>\n",
       "      <td>...</td>\n",
       "    </tr>\n",
       "    <tr>\n",
       "      <th>2022-02-17</th>\n",
       "      <td>304.420013</td>\n",
       "      <td>306.166656</td>\n",
       "      <td>291.366669</td>\n",
       "      <td>292.116669</td>\n",
       "      <td>292.116669</td>\n",
       "      <td>55178400</td>\n",
       "      <td>276.102350</td>\n",
       "      <td>-0.050943</td>\n",
       "      <td>0.000000</td>\n",
       "      <td>0.050943</td>\n",
       "      <td>0.013654</td>\n",
       "      <td>0.018039</td>\n",
       "      <td>0.756905</td>\n",
       "      <td>43.081725</td>\n",
       "      <td>Yes</td>\n",
       "    </tr>\n",
       "    <tr>\n",
       "      <th>2022-02-18</th>\n",
       "      <td>295.333344</td>\n",
       "      <td>295.623322</td>\n",
       "      <td>279.203339</td>\n",
       "      <td>285.660004</td>\n",
       "      <td>285.660004</td>\n",
       "      <td>68501700</td>\n",
       "      <td>276.424750</td>\n",
       "      <td>-0.022103</td>\n",
       "      <td>0.000000</td>\n",
       "      <td>0.022103</td>\n",
       "      <td>0.012289</td>\n",
       "      <td>0.018446</td>\n",
       "      <td>0.666206</td>\n",
       "      <td>39.983412</td>\n",
       "      <td>Yes</td>\n",
       "    </tr>\n",
       "    <tr>\n",
       "      <th>2022-03-03</th>\n",
       "      <td>292.923340</td>\n",
       "      <td>295.480011</td>\n",
       "      <td>277.533325</td>\n",
       "      <td>279.763336</td>\n",
       "      <td>279.763336</td>\n",
       "      <td>61623600</td>\n",
       "      <td>279.467350</td>\n",
       "      <td>-0.046142</td>\n",
       "      <td>0.000000</td>\n",
       "      <td>0.046142</td>\n",
       "      <td>0.015941</td>\n",
       "      <td>0.018816</td>\n",
       "      <td>0.847229</td>\n",
       "      <td>45.864871</td>\n",
       "      <td>No</td>\n",
       "    </tr>\n",
       "    <tr>\n",
       "      <th>2022-04-11</th>\n",
       "      <td>326.799988</td>\n",
       "      <td>336.156677</td>\n",
       "      <td>324.880005</td>\n",
       "      <td>325.309998</td>\n",
       "      <td>325.309998</td>\n",
       "      <td>59357100</td>\n",
       "      <td>294.988050</td>\n",
       "      <td>-0.048328</td>\n",
       "      <td>0.000000</td>\n",
       "      <td>0.048328</td>\n",
       "      <td>0.014521</td>\n",
       "      <td>0.017348</td>\n",
       "      <td>0.837050</td>\n",
       "      <td>45.564896</td>\n",
       "      <td>No</td>\n",
       "    </tr>\n",
       "    <tr>\n",
       "      <th>2022-05-03</th>\n",
       "      <td>301.059998</td>\n",
       "      <td>308.026672</td>\n",
       "      <td>296.196655</td>\n",
       "      <td>303.083344</td>\n",
       "      <td>303.083344</td>\n",
       "      <td>63709500</td>\n",
       "      <td>302.263967</td>\n",
       "      <td>0.006988</td>\n",
       "      <td>0.006988</td>\n",
       "      <td>0.000000</td>\n",
       "      <td>0.011400</td>\n",
       "      <td>0.015221</td>\n",
       "      <td>0.748986</td>\n",
       "      <td>42.824009</td>\n",
       "      <td>Yes</td>\n",
       "    </tr>\n",
       "  </tbody>\n",
       "</table>\n",
       "<p>93 rows × 15 columns</p>\n",
       "</div>"
      ],
      "text/plain": [
       "                  Open        High         Low       Close   Adj Close  \\\n",
       "Date                                                                     \n",
       "2020-02-27   48.666668   49.318001   44.599998   45.266666   45.266666   \n",
       "2020-02-28   41.980000   46.034668   40.768002   44.532665   44.532665   \n",
       "2020-03-06   46.000000   47.133331   45.618000   46.898666   46.898666   \n",
       "2020-03-09   40.359333   44.200001   40.333332   40.533333   40.533333   \n",
       "2020-03-10   43.962002   44.533333   40.533333   43.021999   43.021999   \n",
       "...                ...         ...         ...         ...         ...   \n",
       "2022-02-17  304.420013  306.166656  291.366669  292.116669  292.116669   \n",
       "2022-02-18  295.333344  295.623322  279.203339  285.660004  285.660004   \n",
       "2022-03-03  292.923340  295.480011  277.533325  279.763336  279.763336   \n",
       "2022-04-11  326.799988  336.156677  324.880005  325.309998  325.309998   \n",
       "2022-05-03  301.059998  308.026672  296.196655  303.083344  303.083344   \n",
       "\n",
       "               Volume       MA200  Price Change    Upmove  Downmove    Avg Up  \\\n",
       "Date                                                                            \n",
       "2020-02-27  364158000   22.786057     -0.128146  0.000000  0.128146  0.020398   \n",
       "2020-02-28  363343500   22.931283     -0.016215  0.000000  0.016215  0.018359   \n",
       "2020-03-06  189943500   23.792917     -0.029067  0.000000  0.029067  0.018888   \n",
       "2020-03-09  256105500   23.931340     -0.135725  0.000000  0.135725  0.016999   \n",
       "2020-03-10  233916000   24.081287      0.061398  0.061398  0.000000  0.021439   \n",
       "...               ...         ...           ...       ...       ...       ...   \n",
       "2022-02-17   55178400  276.102350     -0.050943  0.000000  0.050943  0.013654   \n",
       "2022-02-18   68501700  276.424750     -0.022103  0.000000  0.022103  0.012289   \n",
       "2022-03-03   61623600  279.467350     -0.046142  0.000000  0.046142  0.015941   \n",
       "2022-04-11   59357100  294.988050     -0.048328  0.000000  0.048328  0.014521   \n",
       "2022-05-03   63709500  302.263967      0.006988  0.006988  0.000000  0.011400   \n",
       "\n",
       "            Avg Down        RS        RSI  Buy  \n",
       "Date                                            \n",
       "2020-02-27  0.029836  0.683677  40.606191  Yes  \n",
       "2020-02-28  0.028474  0.644744  39.200273  Yes  \n",
       "2020-03-06  0.022718  0.831414  45.397386   No  \n",
       "2020-03-09  0.034018  0.499700  33.319983  Yes  \n",
       "2020-03-10  0.030617  0.700238  41.184718  Yes  \n",
       "...              ...       ...        ...  ...  \n",
       "2022-02-17  0.018039  0.756905  43.081725  Yes  \n",
       "2022-02-18  0.018446  0.666206  39.983412  Yes  \n",
       "2022-03-03  0.018816  0.847229  45.864871   No  \n",
       "2022-04-11  0.017348  0.837050  45.564896   No  \n",
       "2022-05-03  0.015221  0.748986  42.824009  Yes  \n",
       "\n",
       "[93 rows x 15 columns]"
      ]
     },
     "execution_count": 20,
     "metadata": {},
     "output_type": "execute_result"
    }
   ],
   "source": [
    "df = pd.DataFrame()\n",
    "df = RSIcalc(stock)\n",
    "df.query('Close > MA200 & RSI < 46')"
   ]
  },
  {
   "cell_type": "code",
   "execution_count": 21,
   "id": "d6cb8a69",
   "metadata": {},
   "outputs": [],
   "source": [
    "def tellers(df):\n",
    "    Buying_dates = []\n",
    "    Selling_dates =[]\n",
    "    \n",
    "    for i in range(len(df)):\n",
    "        if \"Yes\" in df['Buy'].iloc[i]:\n",
    "            Buying_dates.append(df.iloc[i+1].name)\n",
    "            for j in range(1,11):\n",
    "                if df['RSI'].iloc[i + j] > 60:\n",
    "                    Selling_dates.append(df.iloc[i+j+1].name)\n",
    "                    break\n",
    "                elif j==10:\n",
    "                    Selling_dates.append(df.iloc[i+j+1].name)\n",
    "            \n",
    "                    \n",
    "    return Buying_dates, Selling_dates    "
   ]
  },
  {
   "cell_type": "code",
   "execution_count": 22,
   "id": "53dc08d7",
   "metadata": {},
   "outputs": [
    {
     "name": "stdout",
     "output_type": "stream",
     "text": [
      "[*********************100%***********************]  1 of 1 completed\n"
     ]
    }
   ],
   "source": [
    "frame = RSIcalc(stock)\n",
    "Buy, Sell = tellers(frame)"
   ]
  },
  {
   "cell_type": "code",
   "execution_count": 23,
   "id": "17d72c34",
   "metadata": {},
   "outputs": [
    {
     "data": {
      "text/plain": [
       "[<matplotlib.lines.Line2D at 0x20165a76940>]"
      ]
     },
     "execution_count": 23,
     "metadata": {},
     "output_type": "execute_result"
    },
    {
     "data": {
      "image/png": "[encoded data removed]",
      "text/plain": [
       "<Figure size 864x360 with 1 Axes>"
      ]
     },
     "metadata": {
      "needs_background": "light"
     },
     "output_type": "display_data"
    }
   ],
   "source": [
    "plt.figure(figsize=(12,5))\n",
    "plt.scatter(frame.loc[Buy].index , frame.loc[Buy]['Adj Close'], marker='^',c='g')\n",
    "plt.plot(frame['Adj Close'], alpha=0.7)"
   ]
  },
  {
   "cell_type": "code",
   "execution_count": 24,
   "id": "8c70ce1b",
   "metadata": {},
   "outputs": [],
   "source": [
    "Profits = (frame.loc[Sell].Open.values - frame.loc[Buy].Open.values)/(frame.loc[Buy].Open.values)"
   ]
  },
  {
   "cell_type": "code",
   "execution_count": 25,
   "id": "2e9582bd",
   "metadata": {
    "scrolled": true
   },
   "outputs": [
    {
     "data": {
      "text/plain": [
       "array([-0.05510557, -0.33990383, -0.27619311, -0.14831307, -0.05767013,\n",
       "       -0.1512605 ,  0.08681581,  0.13917871,  0.29562981,  0.16271112,\n",
       "        0.17896681,  0.14183948,  0.15831211,  0.09591838,  0.23351094,\n",
       "        0.01241587,  0.00970754,  0.03789342,  0.12310551, -0.02568618,\n",
       "       -0.1383979 , -0.11693125, -0.16019971, -0.21250317, -0.21253802,\n",
       "       -0.08147948, -0.01622535, -0.03683814, -0.04285714,  0.00576717,\n",
       "       -0.02078578, -0.04523323,  0.04344308,  0.03280842,  0.1399384 ,\n",
       "        0.11113485,  0.10566074,  0.06828486,  0.15765707,  0.28076444,\n",
       "       -0.12609535, -0.18869117, -0.15535575, -0.10467105, -0.12528198,\n",
       "        0.01346699,  0.00841509,  0.0310869 ,  0.09078267,  0.0944382 ,\n",
       "        0.07344216, -0.09067305, -0.12194031,  0.06435692,  0.07250105,\n",
       "        0.13615878,  0.12637305,  0.07960789,  0.17370489,  0.17895025,\n",
       "        0.1710167 ,  0.11185104, -0.12649915, -0.09948413,  0.02103317,\n",
       "       -0.00948375, -0.01830055, -0.02677419,  0.09388372, -0.01276478,\n",
       "        0.03544222, -0.01250526, -0.10402025,  0.00941307, -0.0309667 ,\n",
       "       -0.03352153, -0.04627577, -0.17636122])"
      ]
     },
     "execution_count": 25,
     "metadata": {},
     "output_type": "execute_result"
    }
   ],
   "source": [
    "Profits"
   ]
  },
  {
   "cell_type": "code",
   "execution_count": 26,
   "id": "149fb0f2",
   "metadata": {},
   "outputs": [],
   "source": [
    "Comisiones = 0.0025"
   ]
  },
  {
   "cell_type": "code",
   "execution_count": 27,
   "id": "d8fb4c6d",
   "metadata": {
    "scrolled": false
   },
   "outputs": [
    {
     "data": {
      "text/html": [
       "<div>\n",
       "<style scoped>\n",
       "    .dataframe tbody tr th:only-of-type {\n",
       "        vertical-align: middle;\n",
       "    }\n",
       "\n",
       "    .dataframe tbody tr th {\n",
       "        vertical-align: top;\n",
       "    }\n",
       "\n",
       "    .dataframe thead th {\n",
       "        text-align: right;\n",
       "    }\n",
       "</style>\n",
       "<table border=\"1\" class=\"dataframe\">\n",
       "  <thead>\n",
       "    <tr style=\"text-align: right;\">\n",
       "      <th></th>\n",
       "      <th>Rendimientos</th>\n",
       "      <th>Utilidad</th>\n",
       "      <th>Monto</th>\n",
       "    </tr>\n",
       "  </thead>\n",
       "  <tbody>\n",
       "    <tr>\n",
       "      <th>0</th>\n",
       "      <td>-0.055106</td>\n",
       "      <td>-0.057606</td>\n",
       "      <td>944894.435</td>\n",
       "    </tr>\n",
       "    <tr>\n",
       "      <th>1</th>\n",
       "      <td>-0.339904</td>\n",
       "      <td>-0.342404</td>\n",
       "      <td>623721.201</td>\n",
       "    </tr>\n",
       "    <tr>\n",
       "      <th>2</th>\n",
       "      <td>-0.276193</td>\n",
       "      <td>-0.278693</td>\n",
       "      <td>451453.701</td>\n",
       "    </tr>\n",
       "    <tr>\n",
       "      <th>3</th>\n",
       "      <td>-0.148313</td>\n",
       "      <td>-0.150813</td>\n",
       "      <td>384497.217</td>\n",
       "    </tr>\n",
       "    <tr>\n",
       "      <th>4</th>\n",
       "      <td>-0.057670</td>\n",
       "      <td>-0.060170</td>\n",
       "      <td>362323.213</td>\n",
       "    </tr>\n",
       "    <tr>\n",
       "      <th>...</th>\n",
       "      <td>...</td>\n",
       "      <td>...</td>\n",
       "      <td>...</td>\n",
       "    </tr>\n",
       "    <tr>\n",
       "      <th>73</th>\n",
       "      <td>0.009413</td>\n",
       "      <td>0.006913</td>\n",
       "      <td>1135822.304</td>\n",
       "    </tr>\n",
       "    <tr>\n",
       "      <th>74</th>\n",
       "      <td>-0.030967</td>\n",
       "      <td>-0.033467</td>\n",
       "      <td>1100649.641</td>\n",
       "    </tr>\n",
       "    <tr>\n",
       "      <th>75</th>\n",
       "      <td>-0.033522</td>\n",
       "      <td>-0.036022</td>\n",
       "      <td>1063754.185</td>\n",
       "    </tr>\n",
       "    <tr>\n",
       "      <th>76</th>\n",
       "      <td>-0.046276</td>\n",
       "      <td>-0.048776</td>\n",
       "      <td>1014528.144</td>\n",
       "    </tr>\n",
       "    <tr>\n",
       "      <th>77</th>\n",
       "      <td>-0.176361</td>\n",
       "      <td>-0.178861</td>\n",
       "      <td>835604.727</td>\n",
       "    </tr>\n",
       "  </tbody>\n",
       "</table>\n",
       "<p>78 rows × 3 columns</p>\n",
       "</div>"
      ],
      "text/plain": [
       "    Rendimientos  Utilidad        Monto\n",
       "0      -0.055106 -0.057606   944894.435\n",
       "1      -0.339904 -0.342404   623721.201\n",
       "2      -0.276193 -0.278693   451453.701\n",
       "3      -0.148313 -0.150813   384497.217\n",
       "4      -0.057670 -0.060170   362323.213\n",
       "..           ...       ...          ...\n",
       "73      0.009413  0.006913  1135822.304\n",
       "74     -0.030967 -0.033467  1100649.641\n",
       "75     -0.033522 -0.036022  1063754.185\n",
       "76     -0.046276 -0.048776  1014528.144\n",
       "77     -0.176361 -0.178861   835604.727\n",
       "\n",
       "[78 rows x 3 columns]"
      ]
     },
     "execution_count": 27,
     "metadata": {},
     "output_type": "execute_result"
    }
   ],
   "source": [
    "dfr = pd.DataFrame()\n",
    "dfr['Rendimientos'] = Profits\n",
    "dfr['Utilidad'] = dfr['Rendimientos']-Comisiones\n",
    "\n",
    "Monto = [1000000]\n",
    "\n",
    "\n",
    "\n",
    "for i in range(len(dfr)):\n",
    "    valor = Monto[-1]*(1+dfr['Rendimientos'][i])\n",
    "    Monto.append(valor)\n",
    "    \n",
    "del Monto[0]\n",
    "    \n",
    "dfr['Monto'] = np.round(Monto,3)\n",
    "dfr"
   ]
  },
  {
   "cell_type": "code",
   "execution_count": 28,
   "id": "2530bd31",
   "metadata": {},
   "outputs": [
    {
     "data": {
      "image/png": "[encoded data removed]",
      "text/plain": [
       "<Figure size 432x288 with 1 Axes>"
      ]
     },
     "metadata": {
      "needs_background": "light"
     },
     "output_type": "display_data"
    }
   ],
   "source": [
    "plt.bar(dfr.index, dfr.Rendimientos,width=0.6)\n",
    "plt.xlabel(\"Posición\")\n",
    "plt.ylabel(\"Rendimientos\")\n",
    "plt.title(\"Rendimiento por posición\")\n",
    "plt.show()"
   ]
  },
  {
   "cell_type": "code",
   "execution_count": 29,
   "id": "904448fe",
   "metadata": {},
   "outputs": [],
   "source": [
    "wins = [i for i in Profits if i > 0]"
   ]
  },
  {
   "cell_type": "code",
   "execution_count": 30,
   "id": "037f8790",
   "metadata": {},
   "outputs": [
    {
     "data": {
      "text/plain": [
       "0.5256410256410257"
      ]
     },
     "execution_count": 30,
     "metadata": {},
     "output_type": "execute_result"
    }
   ],
   "source": [
    "len(wins)/len(Profits)"
   ]
  },
  {
   "cell_type": "code",
   "execution_count": 31,
   "id": "9c97d3a9",
   "metadata": {
    "scrolled": false
   },
   "outputs": [
    {
     "data": {
      "text/plain": [
       "(0.4596018328057673, 0.16460183280576732)"
      ]
     },
     "execution_count": 31,
     "metadata": {},
     "output_type": "execute_result"
    }
   ],
   "source": [
    "Rendimiento = dfr.Rendimientos.sum()\n",
    "Utilidad = dfr.Utilidad.sum()-0.1\n",
    "Rendimiento, Utilidad"
   ]
  },
  {
   "cell_type": "code",
   "execution_count": null,
   "id": "6e22f0cc",
   "metadata": {},
   "outputs": [],
   "source": []
  }
 ],
 "metadata": {
  "kernelspec": {
   "display_name": "Python 3 (ipykernel)",
   "language": "python",
   "name": "python3"
  },
  "language_info": {
   "codemirror_mode": {
    "name": "ipython",
    "version": 3
   },
   "file_extension": ".py",
   "mimetype": "text/x-python",
   "name": "python",
   "nbconvert_exporter": "python",
   "pygments_lexer": "ipython3",
   "version": "3.9.12"
  }
 },
 "nbformat": 4,
 "nbformat_minor": 5
}
