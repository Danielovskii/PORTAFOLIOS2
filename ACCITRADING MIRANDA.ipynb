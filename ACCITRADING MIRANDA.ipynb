{
 "cells": [
  {
   "cell_type": "code",
   "execution_count": 1,
   "id": "7f449aef",
   "metadata": {},
   "outputs": [],
   "source": [
    "import yfinance as yf\n",
    "import pandas as pd\n",
    "import numpy as np \n",
    "import matplotlib.pyplot as plt"
   ]
  },
  {
   "cell_type": "markdown",
   "id": "eadf46d5",
   "metadata": {},
   "source": [
    "# 1. ACCIONES"
   ]
  },
  {
   "cell_type": "code",
   "execution_count": 69,
   "id": "a996896e",
   "metadata": {},
   "outputs": [],
   "source": [
    "tickers2 = ['WALMEX.MX','ELEKTRA.MX','BIMBOA.MX','GAPB.MX','CEMEXCPO.MX']\n",
    "tickers3 = ['AMXB.MX','CEMEXCPO.MX','FEMSAUBD.MX','BBAJIOO.MX','WALMEX.MX','ALFAA.MX','ELEKTRA.MX','BIMBOA.MX','GFNORTEO.MX','AC.MX',\"CUERVO.MX\",'GAPB.MX','ASURB.MX','NAFTRACISHRS.MX']"
   ]
  },
  {
   "cell_type": "code",
   "execution_count": 70,
   "id": "95bfce75",
   "metadata": {},
   "outputs": [
    {
     "data": {
      "text/plain": [
       "['WALMEX.MX', 'ELEKTRA.MX', 'BIMBOA.MX', 'GAPB.MX', 'CEMEXCPO.MX']"
      ]
     },
     "execution_count": 70,
     "metadata": {},
     "output_type": "execute_result"
    }
   ],
   "source": [
    "tickers = pd.read_excel('infoDownload.xlsx')\n",
    "tickers = tickers[\"Símbolo\"].tolist()\n",
    "no = [\"PEOLES.MX\", \"MEXCHEM.MX\", \"LIVEPOLC1.MX\", \"KOFL.MX\", \"SITESB1.MX\",'ALPEKA.MX']\n",
    "\n",
    "for i in no:\n",
    "    tickers.remove(i)\n",
    "tickers2"
   ]
  },
  {
   "cell_type": "code",
   "execution_count": 71,
   "id": "afcec113",
   "metadata": {},
   "outputs": [
    {
     "name": "stdout",
     "output_type": "stream",
     "text": [
      "[*********************100%***********************]  5 of 5 completed\n"
     ]
    },
    {
     "data": {
      "text/html": [
       "<div>\n",
       "<style scoped>\n",
       "    .dataframe tbody tr th:only-of-type {\n",
       "        vertical-align: middle;\n",
       "    }\n",
       "\n",
       "    .dataframe tbody tr th {\n",
       "        vertical-align: top;\n",
       "    }\n",
       "\n",
       "    .dataframe thead th {\n",
       "        text-align: right;\n",
       "    }\n",
       "</style>\n",
       "<table border=\"1\" class=\"dataframe\">\n",
       "  <thead>\n",
       "    <tr style=\"text-align: right;\">\n",
       "      <th></th>\n",
       "      <th>BIMBOA.MX</th>\n",
       "      <th>CEMEXCPO.MX</th>\n",
       "      <th>ELEKTRA.MX</th>\n",
       "      <th>GAPB.MX</th>\n",
       "      <th>WALMEX.MX</th>\n",
       "    </tr>\n",
       "    <tr>\n",
       "      <th>Date</th>\n",
       "      <th></th>\n",
       "      <th></th>\n",
       "      <th></th>\n",
       "      <th></th>\n",
       "      <th></th>\n",
       "    </tr>\n",
       "  </thead>\n",
       "  <tbody>\n",
       "    <tr>\n",
       "      <th>2023-03-02</th>\n",
       "      <td>0.011257</td>\n",
       "      <td>0.042598</td>\n",
       "      <td>0.005508</td>\n",
       "      <td>0.002711</td>\n",
       "      <td>0.001687</td>\n",
       "    </tr>\n",
       "    <tr>\n",
       "      <th>2023-03-03</th>\n",
       "      <td>0.004884</td>\n",
       "      <td>0.038815</td>\n",
       "      <td>0.010664</td>\n",
       "      <td>0.007907</td>\n",
       "      <td>0.016000</td>\n",
       "    </tr>\n",
       "    <tr>\n",
       "      <th>2023-03-06</th>\n",
       "      <td>-0.006556</td>\n",
       "      <td>-0.020649</td>\n",
       "      <td>-0.017002</td>\n",
       "      <td>-0.019410</td>\n",
       "      <td>0.008703</td>\n",
       "    </tr>\n",
       "    <tr>\n",
       "      <th>2023-03-07</th>\n",
       "      <td>-0.020822</td>\n",
       "      <td>-0.034137</td>\n",
       "      <td>-0.007338</td>\n",
       "      <td>-0.007059</td>\n",
       "      <td>-0.006984</td>\n",
       "    </tr>\n",
       "    <tr>\n",
       "      <th>2023-03-08</th>\n",
       "      <td>0.004997</td>\n",
       "      <td>0.005198</td>\n",
       "      <td>0.004784</td>\n",
       "      <td>0.002903</td>\n",
       "      <td>-0.000138</td>\n",
       "    </tr>\n",
       "    <tr>\n",
       "      <th>2023-03-09</th>\n",
       "      <td>-0.003931</td>\n",
       "      <td>-0.010341</td>\n",
       "      <td>-0.001608</td>\n",
       "      <td>-0.010692</td>\n",
       "      <td>-0.006345</td>\n",
       "    </tr>\n",
       "    <tr>\n",
       "      <th>2023-03-13</th>\n",
       "      <td>-0.009170</td>\n",
       "      <td>-0.010449</td>\n",
       "      <td>0.000000</td>\n",
       "      <td>0.028242</td>\n",
       "      <td>0.027485</td>\n",
       "    </tr>\n",
       "    <tr>\n",
       "      <th>2023-03-14</th>\n",
       "      <td>-0.002812</td>\n",
       "      <td>-0.004224</td>\n",
       "      <td>0.001874</td>\n",
       "      <td>-0.009088</td>\n",
       "      <td>-0.004458</td>\n",
       "    </tr>\n",
       "    <tr>\n",
       "      <th>2023-03-15</th>\n",
       "      <td>0.005522</td>\n",
       "      <td>-0.021209</td>\n",
       "      <td>-0.012377</td>\n",
       "      <td>-0.018137</td>\n",
       "      <td>0.007328</td>\n",
       "    </tr>\n",
       "    <tr>\n",
       "      <th>2023-03-16</th>\n",
       "      <td>0.004790</td>\n",
       "      <td>0.009751</td>\n",
       "      <td>0.015957</td>\n",
       "      <td>0.010385</td>\n",
       "      <td>-0.009565</td>\n",
       "    </tr>\n",
       "    <tr>\n",
       "      <th>2023-03-17</th>\n",
       "      <td>0.028837</td>\n",
       "      <td>-0.012876</td>\n",
       "      <td>-0.004188</td>\n",
       "      <td>-0.013881</td>\n",
       "      <td>-0.031556</td>\n",
       "    </tr>\n",
       "    <tr>\n",
       "      <th>2023-03-21</th>\n",
       "      <td>-0.008024</td>\n",
       "      <td>0.010870</td>\n",
       "      <td>-0.017350</td>\n",
       "      <td>-0.007098</td>\n",
       "      <td>0.016011</td>\n",
       "    </tr>\n",
       "    <tr>\n",
       "      <th>2023-03-22</th>\n",
       "      <td>0.001937</td>\n",
       "      <td>0.003226</td>\n",
       "      <td>0.008272</td>\n",
       "      <td>0.003378</td>\n",
       "      <td>0.002627</td>\n",
       "    </tr>\n",
       "    <tr>\n",
       "      <th>2023-03-23</th>\n",
       "      <td>-0.006937</td>\n",
       "      <td>0.008574</td>\n",
       "      <td>0.004627</td>\n",
       "      <td>0.007035</td>\n",
       "      <td>-0.000689</td>\n",
       "    </tr>\n",
       "    <tr>\n",
       "      <th>2023-03-24</th>\n",
       "      <td>0.001832</td>\n",
       "      <td>-0.015940</td>\n",
       "      <td>0.020230</td>\n",
       "      <td>0.007404</td>\n",
       "      <td>0.007174</td>\n",
       "    </tr>\n",
       "    <tr>\n",
       "      <th>2023-03-27</th>\n",
       "      <td>0.010401</td>\n",
       "      <td>-0.007559</td>\n",
       "      <td>0.011359</td>\n",
       "      <td>0.014698</td>\n",
       "      <td>0.004521</td>\n",
       "    </tr>\n",
       "    <tr>\n",
       "      <th>2023-03-28</th>\n",
       "      <td>0.000000</td>\n",
       "      <td>0.020675</td>\n",
       "      <td>-0.021767</td>\n",
       "      <td>0.032914</td>\n",
       "      <td>0.007773</td>\n",
       "    </tr>\n",
       "    <tr>\n",
       "      <th>2023-03-29</th>\n",
       "      <td>0.017873</td>\n",
       "      <td>0.036247</td>\n",
       "      <td>0.016202</td>\n",
       "      <td>0.004637</td>\n",
       "      <td>-0.009337</td>\n",
       "    </tr>\n",
       "    <tr>\n",
       "      <th>2023-03-30</th>\n",
       "      <td>0.019449</td>\n",
       "      <td>0.007202</td>\n",
       "      <td>0.024852</td>\n",
       "      <td>-0.006586</td>\n",
       "      <td>0.002595</td>\n",
       "    </tr>\n",
       "    <tr>\n",
       "      <th>2023-03-31</th>\n",
       "      <td>-0.012537</td>\n",
       "      <td>0.013279</td>\n",
       "      <td>0.032099</td>\n",
       "      <td>-0.004108</td>\n",
       "      <td>-0.019074</td>\n",
       "    </tr>\n",
       "    <tr>\n",
       "      <th>2023-04-03</th>\n",
       "      <td>-0.006403</td>\n",
       "      <td>-0.016129</td>\n",
       "      <td>0.003827</td>\n",
       "      <td>0.000028</td>\n",
       "      <td>0.004167</td>\n",
       "    </tr>\n",
       "    <tr>\n",
       "      <th>2023-04-04</th>\n",
       "      <td>0.016333</td>\n",
       "      <td>0.000000</td>\n",
       "      <td>0.047588</td>\n",
       "      <td>0.012374</td>\n",
       "      <td>-0.010097</td>\n",
       "    </tr>\n",
       "    <tr>\n",
       "      <th>2023-04-05</th>\n",
       "      <td>-0.010277</td>\n",
       "      <td>-0.015369</td>\n",
       "      <td>0.001519</td>\n",
       "      <td>-0.016157</td>\n",
       "      <td>-0.015928</td>\n",
       "    </tr>\n",
       "    <tr>\n",
       "      <th>2023-04-10</th>\n",
       "      <td>0.008174</td>\n",
       "      <td>0.020812</td>\n",
       "      <td>0.035474</td>\n",
       "      <td>0.019135</td>\n",
       "      <td>0.002840</td>\n",
       "    </tr>\n",
       "    <tr>\n",
       "      <th>2023-04-11</th>\n",
       "      <td>0.008108</td>\n",
       "      <td>0.021407</td>\n",
       "      <td>0.004464</td>\n",
       "      <td>-0.015133</td>\n",
       "      <td>0.008212</td>\n",
       "    </tr>\n",
       "    <tr>\n",
       "      <th>2023-04-12</th>\n",
       "      <td>-0.013042</td>\n",
       "      <td>0.019960</td>\n",
       "      <td>-0.005316</td>\n",
       "      <td>-0.001053</td>\n",
       "      <td>0.000000</td>\n",
       "    </tr>\n",
       "  </tbody>\n",
       "</table>\n",
       "</div>"
      ],
      "text/plain": [
       "            BIMBOA.MX  CEMEXCPO.MX  ELEKTRA.MX   GAPB.MX  WALMEX.MX\n",
       "Date                                                               \n",
       "2023-03-02   0.011257     0.042598    0.005508  0.002711   0.001687\n",
       "2023-03-03   0.004884     0.038815    0.010664  0.007907   0.016000\n",
       "2023-03-06  -0.006556    -0.020649   -0.017002 -0.019410   0.008703\n",
       "2023-03-07  -0.020822    -0.034137   -0.007338 -0.007059  -0.006984\n",
       "2023-03-08   0.004997     0.005198    0.004784  0.002903  -0.000138\n",
       "2023-03-09  -0.003931    -0.010341   -0.001608 -0.010692  -0.006345\n",
       "2023-03-13  -0.009170    -0.010449    0.000000  0.028242   0.027485\n",
       "2023-03-14  -0.002812    -0.004224    0.001874 -0.009088  -0.004458\n",
       "2023-03-15   0.005522    -0.021209   -0.012377 -0.018137   0.007328\n",
       "2023-03-16   0.004790     0.009751    0.015957  0.010385  -0.009565\n",
       "2023-03-17   0.028837    -0.012876   -0.004188 -0.013881  -0.031556\n",
       "2023-03-21  -0.008024     0.010870   -0.017350 -0.007098   0.016011\n",
       "2023-03-22   0.001937     0.003226    0.008272  0.003378   0.002627\n",
       "2023-03-23  -0.006937     0.008574    0.004627  0.007035  -0.000689\n",
       "2023-03-24   0.001832    -0.015940    0.020230  0.007404   0.007174\n",
       "2023-03-27   0.010401    -0.007559    0.011359  0.014698   0.004521\n",
       "2023-03-28   0.000000     0.020675   -0.021767  0.032914   0.007773\n",
       "2023-03-29   0.017873     0.036247    0.016202  0.004637  -0.009337\n",
       "2023-03-30   0.019449     0.007202    0.024852 -0.006586   0.002595\n",
       "2023-03-31  -0.012537     0.013279    0.032099 -0.004108  -0.019074\n",
       "2023-04-03  -0.006403    -0.016129    0.003827  0.000028   0.004167\n",
       "2023-04-04   0.016333     0.000000    0.047588  0.012374  -0.010097\n",
       "2023-04-05  -0.010277    -0.015369    0.001519 -0.016157  -0.015928\n",
       "2023-04-10   0.008174     0.020812    0.035474  0.019135   0.002840\n",
       "2023-04-11   0.008108     0.021407    0.004464 -0.015133   0.008212\n",
       "2023-04-12  -0.013042     0.019960   -0.005316 -0.001053   0.000000"
      ]
     },
     "execution_count": 71,
     "metadata": {},
     "output_type": "execute_result"
    }
   ],
   "source": [
    "# Bajamos los ETF de yahoo\n",
    "start_date = '2023-03-01'\n",
    "\n",
    "St = yf.download(tickers2, start=start_date)['Close']\n",
    "St.head()\n",
    "rt = St.pct_change().dropna()\n",
    "rt"
   ]
  },
  {
   "cell_type": "code",
   "execution_count": 72,
   "id": "94de469e",
   "metadata": {},
   "outputs": [
    {
     "data": {
      "text/html": [
       "<div>\n",
       "<style scoped>\n",
       "    .dataframe tbody tr th:only-of-type {\n",
       "        vertical-align: middle;\n",
       "    }\n",
       "\n",
       "    .dataframe tbody tr th {\n",
       "        vertical-align: top;\n",
       "    }\n",
       "\n",
       "    .dataframe thead th {\n",
       "        text-align: right;\n",
       "    }\n",
       "</style>\n",
       "<table border=\"1\" class=\"dataframe\">\n",
       "  <thead>\n",
       "    <tr style=\"text-align: right;\">\n",
       "      <th></th>\n",
       "      <th>media</th>\n",
       "      <th>vol</th>\n",
       "    </tr>\n",
       "  </thead>\n",
       "  <tbody>\n",
       "    <tr>\n",
       "      <th>BIMBOA.MX</th>\n",
       "      <td>0.035445</td>\n",
       "      <td>0.053199</td>\n",
       "    </tr>\n",
       "    <tr>\n",
       "      <th>CEMEXCPO.MX</th>\n",
       "      <td>0.072475</td>\n",
       "      <td>0.090933</td>\n",
       "    </tr>\n",
       "    <tr>\n",
       "      <th>ELEKTRA.MX</th>\n",
       "      <td>0.131133</td>\n",
       "      <td>0.075739</td>\n",
       "    </tr>\n",
       "    <tr>\n",
       "      <th>GAPB.MX</th>\n",
       "      <td>0.020475</td>\n",
       "      <td>0.062577</td>\n",
       "    </tr>\n",
       "    <tr>\n",
       "      <th>WALMEX.MX</th>\n",
       "      <td>0.002383</td>\n",
       "      <td>0.055310</td>\n",
       "    </tr>\n",
       "  </tbody>\n",
       "</table>\n",
       "</div>"
      ],
      "text/plain": [
       "                media       vol\n",
       "BIMBOA.MX    0.035445  0.053199\n",
       "CEMEXCPO.MX  0.072475  0.090933\n",
       "ELEKTRA.MX   0.131133  0.075739\n",
       "GAPB.MX      0.020475  0.062577\n",
       "WALMEX.MX    0.002383  0.055310"
      ]
     },
     "execution_count": 72,
     "metadata": {},
     "output_type": "execute_result"
    }
   ],
   "source": [
    "plazo = 21\n",
    "\n",
    "resumen = pd.DataFrame()\n",
    "resumen['media'] = rt.mean()*plazo\n",
    "resumen['vol'] = rt.std()*np.sqrt(plazo)\n",
    "\n",
    "max_res = resumen[resumen.media == resumen.media.max()]\n",
    "resumen"
   ]
  },
  {
   "cell_type": "code",
   "execution_count": 73,
   "id": "43d966c7",
   "metadata": {},
   "outputs": [],
   "source": [
    "# Matriz de covarianza\n",
    "sigma = rt.cov()"
   ]
  },
  {
   "cell_type": "code",
   "execution_count": 74,
   "id": "ac527de9",
   "metadata": {},
   "outputs": [],
   "source": [
    "# Tasa libre de riesgo anual\n",
    "anual = 0.1152\n",
    "mensual = anual/12\n",
    "diaria = anual/252\n",
    "rf = mensual"
   ]
  },
  {
   "cell_type": "code",
   "execution_count": 75,
   "id": "e8e6bb37",
   "metadata": {},
   "outputs": [],
   "source": [
    "# Definimos el número de portafolios que simularemos, y la cantidad de activos que tenemos\n",
    "n_port = 1000000\n",
    "n_act = len(rt.keys())"
   ]
  },
  {
   "cell_type": "code",
   "execution_count": 76,
   "id": "7963436d",
   "metadata": {},
   "outputs": [],
   "source": [
    "W = np.random.dirichlet((1,) * n_act, size=n_port)"
   ]
  },
  {
   "cell_type": "code",
   "execution_count": 77,
   "id": "b98f92fa",
   "metadata": {},
   "outputs": [],
   "source": [
    "# Rendimientos y volatilidad de cada portafolios\n",
    "Valor_esperado = W.dot(resumen['media'])\n",
    "\n",
    "volatilidad = [] \n",
    "\n",
    "for i in range(len(W)):\n",
    "    varianza = W[i].T.dot(sigma).dot(W[i])\n",
    "    vol = np.sqrt(varianza)    \n",
    "    volatilidad.append(vol * np.sqrt(plazo))\n"
   ]
  },
  {
   "cell_type": "code",
   "execution_count": 78,
   "id": "87e94ba2",
   "metadata": {},
   "outputs": [],
   "source": [
    "# Radio de Sharpe\n",
    "rs = (Valor_esperado - rf)/ volatilidad"
   ]
  },
  {
   "cell_type": "code",
   "execution_count": 79,
   "id": "fea9b95c",
   "metadata": {
    "scrolled": true
   },
   "outputs": [],
   "source": [
    "# Data frame de resultados\n",
    "resultados = pd.DataFrame(W)\n",
    "resultados.columns = tickers2\n",
    "resultados['rendimientos'] = Valor_esperado\n",
    "resultados['vol'] = volatilidad\n",
    "resultados['sharpe'] = rs"
   ]
  },
  {
   "cell_type": "code",
   "execution_count": 80,
   "id": "9ccc0a6f",
   "metadata": {},
   "outputs": [
    {
     "data": {
      "text/html": [
       "<div>\n",
       "<style scoped>\n",
       "    .dataframe tbody tr th:only-of-type {\n",
       "        vertical-align: middle;\n",
       "    }\n",
       "\n",
       "    .dataframe tbody tr th {\n",
       "        vertical-align: top;\n",
       "    }\n",
       "\n",
       "    .dataframe thead th {\n",
       "        text-align: right;\n",
       "    }\n",
       "</style>\n",
       "<table border=\"1\" class=\"dataframe\">\n",
       "  <thead>\n",
       "    <tr style=\"text-align: right;\">\n",
       "      <th></th>\n",
       "      <th>WALMEX.MX</th>\n",
       "      <th>ELEKTRA.MX</th>\n",
       "      <th>BIMBOA.MX</th>\n",
       "      <th>GAPB.MX</th>\n",
       "      <th>CEMEXCPO.MX</th>\n",
       "      <th>rendimientos</th>\n",
       "      <th>vol</th>\n",
       "      <th>sharpe</th>\n",
       "    </tr>\n",
       "  </thead>\n",
       "  <tbody>\n",
       "    <tr>\n",
       "      <th>895400</th>\n",
       "      <td>0.000801</td>\n",
       "      <td>0.109085</td>\n",
       "      <td>0.720809</td>\n",
       "      <td>0.001519</td>\n",
       "      <td>0.167785</td>\n",
       "      <td>0.102887</td>\n",
       "      <td>0.056517</td>\n",
       "      <td>1.650589</td>\n",
       "    </tr>\n",
       "  </tbody>\n",
       "</table>\n",
       "</div>"
      ],
      "text/plain": [
       "        WALMEX.MX  ELEKTRA.MX  BIMBOA.MX   GAPB.MX  CEMEXCPO.MX  rendimientos  \\\n",
       "895400   0.000801    0.109085   0.720809  0.001519     0.167785      0.102887   \n",
       "\n",
       "             vol    sharpe  \n",
       "895400  0.056517  1.650589  "
      ]
     },
     "execution_count": 80,
     "metadata": {},
     "output_type": "execute_result"
    }
   ],
   "source": [
    "max_sharpe = resultados[resultados.sharpe == resultados.sharpe.max()]\n",
    "max_sharpe"
   ]
  },
  {
   "cell_type": "code",
   "execution_count": 81,
   "id": "e6fdc034",
   "metadata": {
    "scrolled": true
   },
   "outputs": [
    {
     "data": {
      "text/html": [
       "<div>\n",
       "<style scoped>\n",
       "    .dataframe tbody tr th:only-of-type {\n",
       "        vertical-align: middle;\n",
       "    }\n",
       "\n",
       "    .dataframe tbody tr th {\n",
       "        vertical-align: top;\n",
       "    }\n",
       "\n",
       "    .dataframe thead th {\n",
       "        text-align: right;\n",
       "    }\n",
       "</style>\n",
       "<table border=\"1\" class=\"dataframe\">\n",
       "  <thead>\n",
       "    <tr style=\"text-align: right;\">\n",
       "      <th></th>\n",
       "      <th>WALMEX.MX</th>\n",
       "      <th>ELEKTRA.MX</th>\n",
       "      <th>BIMBOA.MX</th>\n",
       "      <th>GAPB.MX</th>\n",
       "      <th>CEMEXCPO.MX</th>\n",
       "      <th>rendimientos</th>\n",
       "      <th>vol</th>\n",
       "      <th>sharpe</th>\n",
       "    </tr>\n",
       "  </thead>\n",
       "  <tbody>\n",
       "    <tr>\n",
       "      <th>266461</th>\n",
       "      <td>0.010164</td>\n",
       "      <td>0.007528</td>\n",
       "      <td>0.974409</td>\n",
       "      <td>0.004094</td>\n",
       "      <td>0.003805</td>\n",
       "      <td>0.128776</td>\n",
       "      <td>0.074196</td>\n",
       "      <td>1.606232</td>\n",
       "    </tr>\n",
       "  </tbody>\n",
       "</table>\n",
       "</div>"
      ],
      "text/plain": [
       "        WALMEX.MX  ELEKTRA.MX  BIMBOA.MX   GAPB.MX  CEMEXCPO.MX  rendimientos  \\\n",
       "266461   0.010164    0.007528   0.974409  0.004094     0.003805      0.128776   \n",
       "\n",
       "             vol    sharpe  \n",
       "266461  0.074196  1.606232  "
      ]
     },
     "execution_count": 81,
     "metadata": {},
     "output_type": "execute_result"
    }
   ],
   "source": [
    "max_rend = resultados[resultados.rendimientos == resultados.rendimientos.max()]\n",
    "max_rend"
   ]
  },
  {
   "cell_type": "code",
   "execution_count": 82,
   "id": "0dd29f25",
   "metadata": {},
   "outputs": [
    {
     "data": {
      "text/html": [
       "<div>\n",
       "<style scoped>\n",
       "    .dataframe tbody tr th:only-of-type {\n",
       "        vertical-align: middle;\n",
       "    }\n",
       "\n",
       "    .dataframe tbody tr th {\n",
       "        vertical-align: top;\n",
       "    }\n",
       "\n",
       "    .dataframe thead th {\n",
       "        text-align: right;\n",
       "    }\n",
       "</style>\n",
       "<table border=\"1\" class=\"dataframe\">\n",
       "  <thead>\n",
       "    <tr style=\"text-align: right;\">\n",
       "      <th></th>\n",
       "      <th>WALMEX.MX</th>\n",
       "      <th>ELEKTRA.MX</th>\n",
       "      <th>BIMBOA.MX</th>\n",
       "      <th>GAPB.MX</th>\n",
       "      <th>CEMEXCPO.MX</th>\n",
       "      <th>rendimientos</th>\n",
       "      <th>vol</th>\n",
       "      <th>sharpe</th>\n",
       "    </tr>\n",
       "  </thead>\n",
       "  <tbody>\n",
       "    <tr>\n",
       "      <th>477838</th>\n",
       "      <td>0.355396</td>\n",
       "      <td>0.000153</td>\n",
       "      <td>0.152416</td>\n",
       "      <td>0.049244</td>\n",
       "      <td>0.442791</td>\n",
       "      <td>0.034658</td>\n",
       "      <td>0.031241</td>\n",
       "      <td>0.8021</td>\n",
       "    </tr>\n",
       "  </tbody>\n",
       "</table>\n",
       "</div>"
      ],
      "text/plain": [
       "        WALMEX.MX  ELEKTRA.MX  BIMBOA.MX   GAPB.MX  CEMEXCPO.MX  rendimientos  \\\n",
       "477838   0.355396    0.000153   0.152416  0.049244     0.442791      0.034658   \n",
       "\n",
       "             vol  sharpe  \n",
       "477838  0.031241  0.8021  "
      ]
     },
     "execution_count": 82,
     "metadata": {},
     "output_type": "execute_result"
    }
   ],
   "source": [
    "min_vol = resultados[resultados.vol == resultados.vol.min()]\n",
    "min_vol"
   ]
  },
  {
   "cell_type": "code",
   "execution_count": 94,
   "id": "1efcb9d2",
   "metadata": {
    "scrolled": true
   },
   "outputs": [
    {
     "data": {
      "text/html": [
       "<div>\n",
       "<style scoped>\n",
       "    .dataframe tbody tr th:only-of-type {\n",
       "        vertical-align: middle;\n",
       "    }\n",
       "\n",
       "    .dataframe tbody tr th {\n",
       "        vertical-align: top;\n",
       "    }\n",
       "\n",
       "    .dataframe thead th {\n",
       "        text-align: right;\n",
       "    }\n",
       "</style>\n",
       "<table border=\"1\" class=\"dataframe\">\n",
       "  <thead>\n",
       "    <tr style=\"text-align: right;\">\n",
       "      <th></th>\n",
       "      <th>WALMEX.MX</th>\n",
       "      <th>ELEKTRA.MX</th>\n",
       "      <th>BIMBOA.MX</th>\n",
       "      <th>GAPB.MX</th>\n",
       "      <th>CEMEXCPO.MX</th>\n",
       "      <th>rendimientos</th>\n",
       "      <th>vol</th>\n",
       "      <th>sharpe</th>\n",
       "    </tr>\n",
       "  </thead>\n",
       "  <tbody>\n",
       "    <tr>\n",
       "      <th>908339</th>\n",
       "      <td>0.0254</td>\n",
       "      <td>0.044315</td>\n",
       "      <td>0.725714</td>\n",
       "      <td>0.002438</td>\n",
       "      <td>0.202133</td>\n",
       "      <td>0.099808</td>\n",
       "      <td>0.054927</td>\n",
       "      <td>1.642346</td>\n",
       "    </tr>\n",
       "  </tbody>\n",
       "</table>\n",
       "</div>"
      ],
      "text/plain": [
       "        WALMEX.MX  ELEKTRA.MX  BIMBOA.MX   GAPB.MX  CEMEXCPO.MX  rendimientos  \\\n",
       "908339     0.0254    0.044315   0.725714  0.002438     0.202133      0.099808   \n",
       "\n",
       "             vol    sharpe  \n",
       "908339  0.054927  1.642346  "
      ]
     },
     "execution_count": 94,
     "metadata": {},
     "output_type": "execute_result"
    }
   ],
   "source": [
    "med_vol = resultados.query('vol < 0.055')\n",
    "med_vol = med_vol[med_vol.rendimientos == med_vol.rendimientos.max()]\n",
    "med_vol"
   ]
  },
  {
   "cell_type": "code",
   "execution_count": 95,
   "id": "f8c02eb9",
   "metadata": {
    "scrolled": false
   },
   "outputs": [],
   "source": [
    "max_sharpe = resultados[resultados.sharpe == resultados.sharpe.max()]\n",
    "no = ['rendimientos','vol','sharpe']\n",
    "max_sharpe2 = max_sharpe.drop(no, axis=1)\n",
    "\n",
    "med_vol2 = med_vol.drop(no, axis=1)\n"
   ]
  },
  {
   "cell_type": "code",
   "execution_count": 96,
   "id": "b3788535",
   "metadata": {},
   "outputs": [
    {
     "data": {
      "text/plain": [
       "BIMBOA.MX        90.809998\n",
       "CEMEXCPO.MX      10.220000\n",
       "ELEKTRA.MX     1119.020020\n",
       "GAPB.MX         351.070007\n",
       "WALMEX.MX        71.209999\n",
       "Name: 2023-04-12 00:00:00, dtype: float64"
      ]
     },
     "execution_count": 96,
     "metadata": {},
     "output_type": "execute_result"
    }
   ],
   "source": [
    "ult_precios = St.iloc[-1]\n",
    "ult_precios"
   ]
  },
  {
   "cell_type": "code",
   "execution_count": 103,
   "id": "0367de2a",
   "metadata": {},
   "outputs": [],
   "source": [
    "capital = 1000000"
   ]
  },
  {
   "cell_type": "code",
   "execution_count": 104,
   "id": "742c2f51",
   "metadata": {},
   "outputs": [
    {
     "data": {
      "text/plain": [
       "array([0.1029, 0.0565])"
      ]
     },
     "execution_count": 104,
     "metadata": {},
     "output_type": "execute_result"
    }
   ],
   "source": [
    "#max sharpe\n",
    "\n",
    "emv_max = max_sharpe.rendimientos.values[0]\n",
    "s_emv_max = max_sharpe.vol.values[0]\n",
    "np.round((emv_max,s_emv_max),4)"
   ]
  },
  {
   "cell_type": "code",
   "execution_count": 105,
   "id": "7311247a",
   "metadata": {
    "scrolled": false
   },
   "outputs": [
    {
     "data": {
      "text/html": [
       "<div>\n",
       "<style scoped>\n",
       "    .dataframe tbody tr th:only-of-type {\n",
       "        vertical-align: middle;\n",
       "    }\n",
       "\n",
       "    .dataframe tbody tr th {\n",
       "        vertical-align: top;\n",
       "    }\n",
       "\n",
       "    .dataframe thead th {\n",
       "        text-align: right;\n",
       "    }\n",
       "</style>\n",
       "<table border=\"1\" class=\"dataframe\">\n",
       "  <thead>\n",
       "    <tr style=\"text-align: right;\">\n",
       "      <th></th>\n",
       "      <th>Pesos</th>\n",
       "      <th>Capital</th>\n",
       "      <th>Contratos</th>\n",
       "    </tr>\n",
       "    <tr>\n",
       "      <th>Accion</th>\n",
       "      <th></th>\n",
       "      <th></th>\n",
       "      <th></th>\n",
       "    </tr>\n",
       "  </thead>\n",
       "  <tbody>\n",
       "    <tr>\n",
       "      <th>BIMBOA.MX</th>\n",
       "      <td>0.721</td>\n",
       "      <td>720809.358</td>\n",
       "      <td>7937.0</td>\n",
       "    </tr>\n",
       "    <tr>\n",
       "      <th>CEMEXCPO.MX</th>\n",
       "      <td>0.168</td>\n",
       "      <td>167784.907</td>\n",
       "      <td>16417.0</td>\n",
       "    </tr>\n",
       "    <tr>\n",
       "      <th>ELEKTRA.MX</th>\n",
       "      <td>0.109</td>\n",
       "      <td>109085.117</td>\n",
       "      <td>97.0</td>\n",
       "    </tr>\n",
       "    <tr>\n",
       "      <th>GAPB.MX</th>\n",
       "      <td>0.002</td>\n",
       "      <td>1519.321</td>\n",
       "      <td>4.0</td>\n",
       "    </tr>\n",
       "    <tr>\n",
       "      <th>WALMEX.MX</th>\n",
       "      <td>0.001</td>\n",
       "      <td>801.297</td>\n",
       "      <td>11.0</td>\n",
       "    </tr>\n",
       "  </tbody>\n",
       "</table>\n",
       "</div>"
      ],
      "text/plain": [
       "             Pesos     Capital  Contratos\n",
       "Accion                                   \n",
       "BIMBOA.MX    0.721  720809.358     7937.0\n",
       "CEMEXCPO.MX  0.168  167784.907    16417.0\n",
       "ELEKTRA.MX   0.109  109085.117       97.0\n",
       "GAPB.MX      0.002    1519.321        4.0\n",
       "WALMEX.MX    0.001     801.297       11.0"
      ]
     },
     "metadata": {},
     "output_type": "display_data"
    },
    {
     "data": {
      "text/plain": [
       "'Rendimiento: 0.103'"
      ]
     },
     "metadata": {},
     "output_type": "display_data"
    },
    {
     "data": {
      "text/plain": [
       "'Volatilidad: 0.057'"
      ]
     },
     "metadata": {},
     "output_type": "display_data"
    },
    {
     "data": {
      "text/plain": [
       "'Contratos: 24466.0'"
      ]
     },
     "metadata": {},
     "output_type": "display_data"
    }
   ],
   "source": [
    "#max sharpe\n",
    "\n",
    "sharpeT = max_sharpe2.T\n",
    "sharpeT.index.name = 'Accion'\n",
    "sharpeT = max_sharpe2.T.sort_values('Accion')\n",
    "\n",
    "sharpeT.columns = ['Pesos']\n",
    "sharpeT['Capital'] = sharpeT['Pesos']*capital\n",
    "sharpeT['Contratos'] = (sharpeT['Capital']/ult_precios).apply(np.floor)\n",
    "\n",
    "display(np.round(sharpeT,3),\"Rendimiento: \"+str(np.round(emv_max,3)),\"Volatilidad: \" +str(np.round(s_emv_max,3)), \"Contratos: \"+str(np.round(sharpeT['Contratos'].sum(),3)))"
   ]
  },
  {
   "cell_type": "code",
   "execution_count": 106,
   "id": "0bbc4e62",
   "metadata": {},
   "outputs": [
    {
     "data": {
      "text/plain": [
       "array([0.0998, 0.0549])"
      ]
     },
     "execution_count": 106,
     "metadata": {},
     "output_type": "execute_result"
    }
   ],
   "source": [
    "# Med Vol\n",
    "\n",
    "emv = med_vol.rendimientos.values[0]\n",
    "s_emv = med_vol.vol.values[0]\n",
    "np.round((emv,s_emv),4)"
   ]
  },
  {
   "cell_type": "code",
   "execution_count": 107,
   "id": "a8aa46c9",
   "metadata": {},
   "outputs": [
    {
     "data": {
      "text/html": [
       "<div>\n",
       "<style scoped>\n",
       "    .dataframe tbody tr th:only-of-type {\n",
       "        vertical-align: middle;\n",
       "    }\n",
       "\n",
       "    .dataframe tbody tr th {\n",
       "        vertical-align: top;\n",
       "    }\n",
       "\n",
       "    .dataframe thead th {\n",
       "        text-align: right;\n",
       "    }\n",
       "</style>\n",
       "<table border=\"1\" class=\"dataframe\">\n",
       "  <thead>\n",
       "    <tr style=\"text-align: right;\">\n",
       "      <th></th>\n",
       "      <th>Pesos</th>\n",
       "      <th>Capital</th>\n",
       "      <th>Contratos</th>\n",
       "    </tr>\n",
       "    <tr>\n",
       "      <th>Accion</th>\n",
       "      <th></th>\n",
       "      <th></th>\n",
       "      <th></th>\n",
       "    </tr>\n",
       "  </thead>\n",
       "  <tbody>\n",
       "    <tr>\n",
       "      <th>BIMBOA.MX</th>\n",
       "      <td>0.726</td>\n",
       "      <td>725713.904</td>\n",
       "      <td>7991.0</td>\n",
       "    </tr>\n",
       "    <tr>\n",
       "      <th>CEMEXCPO.MX</th>\n",
       "      <td>0.202</td>\n",
       "      <td>202133.207</td>\n",
       "      <td>19778.0</td>\n",
       "    </tr>\n",
       "    <tr>\n",
       "      <th>ELEKTRA.MX</th>\n",
       "      <td>0.044</td>\n",
       "      <td>44314.511</td>\n",
       "      <td>39.0</td>\n",
       "    </tr>\n",
       "    <tr>\n",
       "      <th>GAPB.MX</th>\n",
       "      <td>0.002</td>\n",
       "      <td>2438.153</td>\n",
       "      <td>6.0</td>\n",
       "    </tr>\n",
       "    <tr>\n",
       "      <th>WALMEX.MX</th>\n",
       "      <td>0.025</td>\n",
       "      <td>25400.225</td>\n",
       "      <td>356.0</td>\n",
       "    </tr>\n",
       "  </tbody>\n",
       "</table>\n",
       "</div>"
      ],
      "text/plain": [
       "             Pesos     Capital  Contratos\n",
       "Accion                                   \n",
       "BIMBOA.MX    0.726  725713.904     7991.0\n",
       "CEMEXCPO.MX  0.202  202133.207    19778.0\n",
       "ELEKTRA.MX   0.044   44314.511       39.0\n",
       "GAPB.MX      0.002    2438.153        6.0\n",
       "WALMEX.MX    0.025   25400.225      356.0"
      ]
     },
     "metadata": {},
     "output_type": "display_data"
    },
    {
     "data": {
      "text/plain": [
       "'Rendimiento: 0.1'"
      ]
     },
     "metadata": {},
     "output_type": "display_data"
    },
    {
     "data": {
      "text/plain": [
       "'Volatilidad: 0.055'"
      ]
     },
     "metadata": {},
     "output_type": "display_data"
    },
    {
     "data": {
      "text/plain": [
       "'Contratos: 28170.0'"
      ]
     },
     "metadata": {},
     "output_type": "display_data"
    }
   ],
   "source": [
    "# Med Vol\n",
    "\n",
    "medT = med_vol2.T\n",
    "medT.index.name = 'Accion'\n",
    "medT = med_vol2.T.sort_values('Accion')\n",
    "\n",
    "medT.columns = ['Pesos']\n",
    "medT['Capital'] = medT['Pesos']*capital\n",
    "medT['Contratos'] = (medT['Capital']/ult_precios).apply(np.floor)\n",
    "\n",
    "display(np.round(medT,3),\"Rendimiento: \"+str(np.round(emv,3)),\"Volatilidad: \" +str(np.round(s_emv,3)), \"Contratos: \"+str(np.round(medT['Contratos'].sum(),3)))"
   ]
  },
  {
   "cell_type": "code",
   "execution_count": 108,
   "id": "e7f6947e",
   "metadata": {},
   "outputs": [
    {
     "data": {
      "text/html": [
       "<div>\n",
       "<style scoped>\n",
       "    .dataframe tbody tr th:only-of-type {\n",
       "        vertical-align: middle;\n",
       "    }\n",
       "\n",
       "    .dataframe tbody tr th {\n",
       "        vertical-align: top;\n",
       "    }\n",
       "\n",
       "    .dataframe thead th {\n",
       "        text-align: right;\n",
       "    }\n",
       "</style>\n",
       "<table border=\"1\" class=\"dataframe\">\n",
       "  <thead>\n",
       "    <tr style=\"text-align: right;\">\n",
       "      <th></th>\n",
       "      <th>Pesos</th>\n",
       "      <th>Capital</th>\n",
       "      <th>Contratos</th>\n",
       "    </tr>\n",
       "    <tr>\n",
       "      <th>Accion</th>\n",
       "      <th></th>\n",
       "      <th></th>\n",
       "      <th></th>\n",
       "    </tr>\n",
       "  </thead>\n",
       "  <tbody>\n",
       "    <tr>\n",
       "      <th>BIMBOA.MX</th>\n",
       "      <td>0.2</td>\n",
       "      <td>200000.0</td>\n",
       "      <td>2202.0</td>\n",
       "    </tr>\n",
       "    <tr>\n",
       "      <th>CEMEXCPO.MX</th>\n",
       "      <td>0.2</td>\n",
       "      <td>200000.0</td>\n",
       "      <td>19569.0</td>\n",
       "    </tr>\n",
       "    <tr>\n",
       "      <th>ELEKTRA.MX</th>\n",
       "      <td>0.2</td>\n",
       "      <td>200000.0</td>\n",
       "      <td>178.0</td>\n",
       "    </tr>\n",
       "    <tr>\n",
       "      <th>GAPB.MX</th>\n",
       "      <td>0.2</td>\n",
       "      <td>200000.0</td>\n",
       "      <td>569.0</td>\n",
       "    </tr>\n",
       "    <tr>\n",
       "      <th>WALMEX.MX</th>\n",
       "      <td>0.2</td>\n",
       "      <td>200000.0</td>\n",
       "      <td>2808.0</td>\n",
       "    </tr>\n",
       "  </tbody>\n",
       "</table>\n",
       "</div>"
      ],
      "text/plain": [
       "             Pesos   Capital  Contratos\n",
       "Accion                                 \n",
       "BIMBOA.MX      0.2  200000.0     2202.0\n",
       "CEMEXCPO.MX    0.2  200000.0    19569.0\n",
       "ELEKTRA.MX     0.2  200000.0      178.0\n",
       "GAPB.MX        0.2  200000.0      569.0\n",
       "WALMEX.MX      0.2  200000.0     2808.0"
      ]
     },
     "metadata": {},
     "output_type": "display_data"
    },
    {
     "data": {
      "text/plain": [
       "'Rendimiento: 0.052'"
      ]
     },
     "metadata": {},
     "output_type": "display_data"
    },
    {
     "data": {
      "text/plain": [
       "'Volatilidad: 0.04'"
      ]
     },
     "metadata": {},
     "output_type": "display_data"
    }
   ],
   "source": [
    "# pesos iguales\n",
    "\n",
    "sharpeT['Pesos'] = 1/len(max_sharpe2.T)\n",
    "sharpeT['Capital'] = sharpeT['Pesos']*capital\n",
    "sharpeT['Contratos'] = (sharpeT['Capital']/ult_precios).apply(np.floor)\n",
    "\n",
    "val_esperado_pesos_iguales = sharpeT['Pesos'].dot(resumen['media'])\n",
    "\n",
    "varianza = sharpeT['Pesos'].T.dot(sigma).dot(sharpeT['Pesos'])\n",
    "vol = np.sqrt(varianza)    \n",
    "volatilidad_pesos_iguales = (vol * np.sqrt(plazo))\n",
    "\n",
    "display(np.round(sharpeT,3),\"Rendimiento: \"+str(np.round(val_esperado_pesos_iguales,3)),\"Volatilidad: \" +str(np.round(volatilidad_pesos_iguales,3)))"
   ]
  },
  {
   "cell_type": "markdown",
   "id": "f7cd7c70",
   "metadata": {},
   "source": [
    "# 2. BONOS"
   ]
  },
  {
   "cell_type": "code",
   "execution_count": 109,
   "id": "d16e21ce",
   "metadata": {},
   "outputs": [
    {
     "name": "stdout",
     "output_type": "stream",
     "text": [
      "[*********************100%***********************]  13 of 13 completed\n"
     ]
    }
   ],
   "source": [
    "bonos = [\"BLK1MASB2-A.MX\",\"BLKBONOB2-A.MX\",\"BLKCORB1-B.MX\",\"BLKDINB0-D.MX\",\"BLKFIHB1-C.MX\",\"BLKGLO2B1-A.MX\", \"BLKGUB1B0-C.MX\",\"BLKLIQ+B0-B.MX\",\"BLKPZOB2-A.MX\",\"BLKREALB2-A.MX\",\"BLKUDI+B2-A.MX\", \"BLKUSLQB0-D.MX\",\"GOLD1+B1-C.MX\"]\n",
    "\n",
    "start_date = '2015-01-01'\n",
    "\n",
    "Stb = yf.download(bonos, start=start_date)['Close']\n",
    "Stb.head()\n",
    "rtb = Stb.pct_change().dropna()\n"
   ]
  },
  {
   "cell_type": "code",
   "execution_count": null,
   "id": "1d291167",
   "metadata": {
    "scrolled": false
   },
   "outputs": [],
   "source": [
    "plazo = 252\n",
    "\n",
    "resumenb = pd.DataFrame()\n",
    "resumenb['media'] = rtb.mean()*plazo\n",
    "resumenb['vol'] = rtb.std()*np.sqrt(plazo)\n",
    "resumenb"
   ]
  },
  {
   "cell_type": "code",
   "execution_count": null,
   "id": "b543db3f",
   "metadata": {},
   "outputs": [],
   "source": [
    "n_port = 1000000\n",
    "n_actb = len(rtb.keys())"
   ]
  },
  {
   "cell_type": "code",
   "execution_count": null,
   "id": "1c416ed8",
   "metadata": {},
   "outputs": [],
   "source": [
    "W = np.random.dirichlet((1,) * n_actb, size=n_port)"
   ]
  },
  {
   "cell_type": "code",
   "execution_count": null,
   "id": "7adc2776",
   "metadata": {},
   "outputs": [],
   "source": [
    "sigmab = rtb.cov()"
   ]
  },
  {
   "cell_type": "code",
   "execution_count": null,
   "id": "da5d7500",
   "metadata": {},
   "outputs": [],
   "source": [
    "Valor_esperado = W.dot(resumenb['media'])\n",
    "Valor_esperado.max()\n",
    "\n",
    "volatilidad = [] \n",
    "\n",
    "for i in range(len(W)):\n",
    "    varianza = W[i].T.dot(sigmab).dot(W[i])\n",
    "    vol = np.sqrt(varianza)    \n",
    "    volatilidad.append(vol * np.sqrt(plazo))\n",
    "\n",
    "rs = (Valor_esperado - rf)/ volatilidad\n",
    "\n",
    "resultadosb = pd.DataFrame(W)\n",
    "resultadosb.columns = bonos\n",
    "resultadosb['rendimientos'] = Valor_esperado\n",
    "resultadosb['vol'] = volatilidad\n",
    "resultadosb['sharpe'] = rs"
   ]
  },
  {
   "cell_type": "code",
   "execution_count": null,
   "id": "751ec93a",
   "metadata": {
    "scrolled": true
   },
   "outputs": [],
   "source": [
    "max_sharpeb = resultadosb[resultadosb.sharpe == resultadosb.sharpe.max()]\n",
    "max_sharpeb"
   ]
  },
  {
   "cell_type": "code",
   "execution_count": null,
   "id": "0bf3cc56",
   "metadata": {},
   "outputs": [],
   "source": [
    "max_renb = resultadosb[resultadosb.rendimientos == resultadosb.rendimientos.max()]\n",
    "max_renb"
   ]
  },
  {
   "cell_type": "code",
   "execution_count": null,
   "id": "243e3b40",
   "metadata": {},
   "outputs": [],
   "source": [
    "min_volb = resultadosb[resultadosb.vol == resultadosb.vol.min()]\n",
    "min_volb"
   ]
  },
  {
   "cell_type": "code",
   "execution_count": null,
   "id": "9099e14e",
   "metadata": {},
   "outputs": [],
   "source": [
    "med_volb = resultadosb.query('vol < 0.004')\n",
    "med_volb = med_volb[med_volb.rendimientos == med_volb.rendimientos.max()]\n",
    "med_volb"
   ]
  },
  {
   "cell_type": "code",
   "execution_count": null,
   "id": "e9872851",
   "metadata": {},
   "outputs": [],
   "source": [
    "max_renb = resultadosb[resultadosb.rendimientos == resultadosb.rendimientos.max()]\n",
    "no = ['rendimientos','vol','sharpe']\n",
    "max_ren2b = max_renb.drop(no, axis=1)\n",
    "np.round(max_ren2b,3)"
   ]
  },
  {
   "cell_type": "code",
   "execution_count": null,
   "id": "39c3ed5d",
   "metadata": {},
   "outputs": [],
   "source": [
    "med_vol2b = med_volb.drop(no, axis=1)\n",
    "np.round(med_vol2b,3)"
   ]
  },
  {
   "cell_type": "code",
   "execution_count": null,
   "id": "65af98c1",
   "metadata": {},
   "outputs": [],
   "source": [
    "ult_preciosb = Stb.iloc[-1]\n",
    "ult_preciosb"
   ]
  },
  {
   "cell_type": "code",
   "execution_count": null,
   "id": "731240b1",
   "metadata": {},
   "outputs": [],
   "source": [
    "capitalb = 2000000-capital\n",
    "\n",
    "#max ren\n",
    "renTb = max_ren2b.T\n",
    "renTb.index.name = 'Bono'\n",
    "renTb = max_ren2b.T.sort_values('Bono')\n",
    "\n",
    "renTb.columns = ['Pesos']\n",
    "renTb['Capital'] = renTb['Pesos']*capitalb\n",
    "renTb['Contratos'] = (renTb['Capital']/ult_preciosb).apply(np.floor)\n",
    "\n",
    "\n",
    "np.round(renTb,3)"
   ]
  },
  {
   "cell_type": "code",
   "execution_count": null,
   "id": "b332fc40",
   "metadata": {},
   "outputs": [],
   "source": [
    "#MED VOL\n",
    "medTb = med_vol2b.T\n",
    "medTb.index.name = 'Bono'\n",
    "medTb = med_vol2b.T.sort_values('Bono')\n",
    "\n",
    "medTb.columns = ['Pesos']\n",
    "medTb['Capital'] = medTb['Pesos']*capitalb\n",
    "medTb['Contratos'] = (medTb['Capital']/ult_preciosb).apply(np.floor)\n",
    "\n",
    "np.round(medTb,3)"
   ]
  },
  {
   "cell_type": "code",
   "execution_count": null,
   "id": "3f985a47",
   "metadata": {},
   "outputs": [],
   "source": [
    "#max ren\n",
    "ren_emvb = max_renb.rendimientos.values[0]\n",
    "ren_s_emvb = max_renb.vol.values[0]\n",
    "np.round((ren_emvb,ren_s_emvb),3)"
   ]
  },
  {
   "cell_type": "code",
   "execution_count": null,
   "id": "7b26aaab",
   "metadata": {},
   "outputs": [],
   "source": [
    "# med vol\n",
    "med_emvb = med_volb.rendimientos.values[0]\n",
    "med_s_emvb = med_volb.vol.values[0]\n",
    "np.round((med_emvb,med_s_emvb),3)"
   ]
  },
  {
   "cell_type": "code",
   "execution_count": null,
   "id": "0c878e41",
   "metadata": {},
   "outputs": [],
   "source": [
    "ren_utilidadb = (capitalb *(1+ren_emvb))-capitalb\n",
    "ren_utilidadb"
   ]
  },
  {
   "cell_type": "code",
   "execution_count": null,
   "id": "fe96ffb5",
   "metadata": {},
   "outputs": [],
   "source": [
    "med_utilidadb = (capitalb *(1+med_emvb))-capitalb\n",
    "med_utilidadb"
   ]
  },
  {
   "cell_type": "markdown",
   "id": "afec7b56",
   "metadata": {},
   "source": [
    "# 3. BACKTESTING\n"
   ]
  },
  {
   "cell_type": "code",
   "execution_count": null,
   "id": "82d291ab",
   "metadata": {},
   "outputs": [],
   "source": [
    "tickers = ['AAPL','AMZN','MSFT','META','TSLA', 'SBUX', 'COST', 'WMT', 'VOO','EWW','QQQ','SPYD','FEMS']"
   ]
  },
  {
   "cell_type": "code",
   "execution_count": null,
   "id": "18924441",
   "metadata": {},
   "outputs": [],
   "source": [
    "start_date = '2015-01-01'\n",
    "\n",
    "St = yf.download(tickers, start=start_date, end = '2020-04-01')['Close']\n",
    "St.head()\n",
    "rt = St.pct_change().dropna()"
   ]
  },
  {
   "cell_type": "code",
   "execution_count": null,
   "id": "09c44b1a",
   "metadata": {
    "scrolled": true
   },
   "outputs": [],
   "source": [
    "plazo = 252\n",
    "\n",
    "resumen = pd.DataFrame()\n",
    "resumen['media'] = rt.mean()*plazo\n",
    "resumen['vol'] = rt.std()*np.sqrt(plazo)\n",
    "\n",
    "max_res = resumen[resumen.media == resumen.media.max()]\n",
    "resumen"
   ]
  },
  {
   "cell_type": "code",
   "execution_count": null,
   "id": "a4cd2fbb",
   "metadata": {},
   "outputs": [],
   "source": [
    "sigma = rt.cov()"
   ]
  },
  {
   "cell_type": "code",
   "execution_count": null,
   "id": "6fd4dbd2",
   "metadata": {},
   "outputs": [],
   "source": [
    "anual = 0.1152\n",
    "mensual = anual/12\n",
    "diaria = anual/252\n",
    "rf = anual"
   ]
  },
  {
   "cell_type": "code",
   "execution_count": null,
   "id": "448ed8c3",
   "metadata": {},
   "outputs": [],
   "source": [
    "n_port = 1000000\n",
    "n_act = len(rt.keys())\n",
    "W = np.random.dirichlet((1,) * n_act, size=n_port)"
   ]
  },
  {
   "cell_type": "code",
   "execution_count": null,
   "id": "93f89cdf",
   "metadata": {},
   "outputs": [],
   "source": [
    "Valor_esperado = W.dot(resumen['media'])\n",
    "\n",
    "volatilidad = [] \n",
    "\n",
    "for i in range(len(W)):\n",
    "    varianza = W[i].T.dot(sigma).dot(W[i])\n",
    "    vol = np.sqrt(varianza)    \n",
    "    volatilidad.append(vol * np.sqrt(plazo))\n"
   ]
  },
  {
   "cell_type": "code",
   "execution_count": null,
   "id": "0d3ea1ee",
   "metadata": {},
   "outputs": [],
   "source": [
    "rs = (Valor_esperado - rf)/ volatilidad"
   ]
  },
  {
   "cell_type": "code",
   "execution_count": null,
   "id": "a09f3050",
   "metadata": {},
   "outputs": [],
   "source": [
    "resultados = pd.DataFrame(W)\n",
    "resultados.columns = tickers\n",
    "resultados['rendimientos'] = Valor_esperado\n",
    "resultados['vol'] = volatilidad\n",
    "resultados['sharpe'] = rs"
   ]
  },
  {
   "cell_type": "code",
   "execution_count": null,
   "id": "f8950a2b",
   "metadata": {},
   "outputs": [],
   "source": [
    "max_sharpe = resultados[resultados.sharpe == resultados.sharpe.max()]\n",
    "max_sharpe"
   ]
  },
  {
   "cell_type": "code",
   "execution_count": null,
   "id": "e8eac69e",
   "metadata": {},
   "outputs": [],
   "source": [
    "max_sharpe = resultados[resultados.sharpe == resultados.sharpe.max()]\n",
    "no = ['rendimientos','vol','sharpe']\n",
    "max_sharpe2 = max_sharpe.drop(no, axis=1)"
   ]
  },
  {
   "cell_type": "code",
   "execution_count": null,
   "id": "6c58e29b",
   "metadata": {},
   "outputs": [],
   "source": [
    "emv_max = max_sharpe.rendimientos.values[0]\n",
    "s_emv_max = max_sharpe.vol.values[0]\n",
    "np.round((emv_max,s_emv_max),4)"
   ]
  },
  {
   "cell_type": "code",
   "execution_count": null,
   "id": "138a30d5",
   "metadata": {
    "scrolled": true
   },
   "outputs": [],
   "source": [
    "precios_iniciales = St.loc['2020-03-31']\n",
    "precios_iniciales"
   ]
  },
  {
   "cell_type": "code",
   "execution_count": null,
   "id": "fc8bdb86",
   "metadata": {},
   "outputs": [],
   "source": [
    "start_date = '2015-01-01'\n",
    "\n",
    "St2 = yf.download(tickers, start=start_date)['Close']\n",
    "St2.head()\n",
    "rt2 = St2.pct_change().dropna()"
   ]
  },
  {
   "cell_type": "code",
   "execution_count": null,
   "id": "adbe383a",
   "metadata": {},
   "outputs": [],
   "source": [
    "ult_precios = St2.iloc[-1]\n",
    "ult_precios"
   ]
  },
  {
   "cell_type": "code",
   "execution_count": null,
   "id": "ff869af0",
   "metadata": {},
   "outputs": [],
   "source": [
    "sharpeT = max_sharpe2.T\n",
    "sharpeT.index.name = 'Accion'\n",
    "sharpeT = max_sharpe2.T.sort_values('Accion')\n",
    "\n",
    "sharpeT.columns = ['Pesos']\n",
    "#sharpeT['Pesos'] = 1/len(max_sharpe2.T)\n",
    "sharpeT['Capital'] = sharpeT['Pesos']*capital\n",
    "sharpeT['%Capital'] = sharpeT['Capital']/capital\n",
    "sharpeT['$inicial'] = precios_iniciales\n",
    "sharpeT['Contratos'] = sharpeT['Capital']/precios_iniciales\n",
    "sharpeT['$final'] = ult_precios\n",
    "sharpeT['Posicion'] = ult_precios*sharpeT['Contratos']\n",
    "sharpeT['Utilidad'] = ult_precios*sharpeT['Contratos']-sharpeT['Capital']\n",
    "sharpeT['%'] = (sharpeT['Posicion']/sharpeT['Capital'])-1\n",
    "\n",
    "display(np.round(sharpeT,3),\"Rendimiento: \"+str(np.round(emv_max,3)),\"Volatilidad: \" +str(np.round(s_emv_max,3)), \"Contratos: \"+str(np.round(sharpeT['Contratos'].sum(),3)))"
   ]
  },
  {
   "cell_type": "code",
   "execution_count": null,
   "id": "aede251c",
   "metadata": {},
   "outputs": [],
   "source": [
    "ut = sharpeT['Utilidad'].sum()\n",
    "ut"
   ]
  },
  {
   "cell_type": "code",
   "execution_count": null,
   "id": "b307875f",
   "metadata": {},
   "outputs": [],
   "source": [
    "ut_backtesting = ((ut + capital )/capital)-1\n",
    "ut_backtesting"
   ]
  },
  {
   "cell_type": "code",
   "execution_count": null,
   "id": "ecbae309",
   "metadata": {},
   "outputs": [],
   "source": [
    "plt.plot(St)"
   ]
  },
  {
   "cell_type": "code",
   "execution_count": null,
   "id": "8a205641",
   "metadata": {},
   "outputs": [],
   "source": [
    "plt.plot(St2)"
   ]
  }
 ],
 "metadata": {
  "kernelspec": {
   "display_name": "Python 3 (ipykernel)",
   "language": "python",
   "name": "python3"
  },
  "language_info": {
   "codemirror_mode": {
    "name": "ipython",
    "version": 3
   },
   "file_extension": ".py",
   "mimetype": "text/x-python",
   "name": "python",
   "nbconvert_exporter": "python",
   "pygments_lexer": "ipython3",
   "version": "3.9.12"
  }
 },
 "nbformat": 4,
 "nbformat_minor": 5
}
