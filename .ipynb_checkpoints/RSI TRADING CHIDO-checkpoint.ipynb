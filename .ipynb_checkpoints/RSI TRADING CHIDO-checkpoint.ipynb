{
 "cells": [
  {
   "cell_type": "code",
   "execution_count": 1,
   "id": "4c0d8a98",
   "metadata": {},
   "outputs": [],
   "source": [
    "import pandas as pd\n",
    "import yfinance as yf\n",
    "import numpy as np\n",
    "import matplotlib.pyplot as plt\n",
    "%matplotlib inline\n",
    "pd.options.mode.chained_assignment = None"
   ]
  },
  {
   "cell_type": "code",
   "execution_count": 12,
   "id": "047d8e71",
   "metadata": {},
   "outputs": [],
   "source": [
    "start_date = '2020-01-01'\n",
    "end_date = '2021-01-01'"
   ]
  },
  {
   "cell_type": "code",
   "execution_count": 13,
   "id": "1b31a776",
   "metadata": {},
   "outputs": [],
   "source": [
    "def RSIcalc(asset): #names\n",
    "    df = yf.download(asset,start=start_date, end = end_date)\n",
    "    df['MA200'] = df['Adj Close'].rolling(window=200).mean()\n",
    "    df['Price Change'] = df['Adj Close'].pct_change()\n",
    "    df['Upmove'] = df['Price Change'].apply(lambda x: x if x>0 else 0)\n",
    "    df['Downmove'] = df['Price Change'].apply(lambda x: abs(x) if x<0 else 0)\n",
    "    df['Avg Up'] = df[\"Upmove\"].ewm(span=19).mean()\n",
    "    df['Avg Down'] = df[\"Downmove\"].ewm(span=19).mean()\n",
    "    df = df.dropna()\n",
    "    df['RS'] = (df['Avg Up']/df['Avg Down'])\n",
    "    df['RSI']= df['RS'].apply(lambda x: 100-(100/(x+1)))\n",
    "    df.loc[(df['Adj Close'] > df['MA200']) & (df['RSI']<50), 'Buy'] = 'Yes'\n",
    "    df.loc[(df['Adj Close'] < df['MA200']) | (df['RSI']>50), 'Buy'] = 'No'\n",
    "    return df"
   ]
  },
  {
   "cell_type": "code",
   "execution_count": 29,
   "id": "0798ceb3",
   "metadata": {},
   "outputs": [],
   "source": [
    "def getSignals(df):\n",
    "    Buying_dates = []\n",
    "    Selling_dates =[]\n",
    "    \n",
    "    for i in range(len(df)):\n",
    "        if \"Yes\" in df['Buy'].iloc[i]:\n",
    "            Buying_dates.append(df.iloc[i+1].name)\n",
    "\n",
    "            for j in range(1,21):\n",
    "                \n",
    "                if (df['RSI'].iloc[i + j] > 60):\n",
    "                    Selling_dates.append(df.iloc[i+j+1].name)\n",
    "                    break\n",
    "                    \n",
    "                elif j==20:\n",
    "                    Selling_dates.append(df.iloc[i+j+1].name)\n",
    "            \n",
    "                    \n",
    "    return Buying_dates, Selling_dates    "
   ]
  },
  {
   "cell_type": "code",
   "execution_count": 30,
   "id": "d6cb8a69",
   "metadata": {},
   "outputs": [],
   "source": [
    "def getSignals2(df, stop):\n",
    "    Buying_dates = []\n",
    "    Selling_dates =[]\n",
    "    \n",
    "    # Encontramos instantes en donde se indica la compra del activo, se mete a la lista de fechas\n",
    "    for i in range(len(df)):\n",
    "        if \"Yes\" in df['Buy'].iloc[i]:\n",
    "            Buying_dates.append(df.iloc[i+1].name)\n",
    "            \n",
    "            # Revisamos los siguientes 10 dias a la compra el mercado\n",
    "            for j in range(1,21):\n",
    "                \n",
    "                # la fecha en la que se compro\n",
    "                flag = Buying_dates[-1]\n",
    "                \n",
    "                # la fecha de los siguientes 10 dias\n",
    "                check = df.iloc[j].name\n",
    "                \n",
    "                # valor numerico de la accion en la fecha de compra\n",
    "                precio_flag = df.loc[flag]['Open']\n",
    "                \n",
    "                # valor numerico de los 10 dias\n",
    "                precio_check = df.loc[check]['Adj Close']\n",
    "                \n",
    "                # se revisa el cambio porcentual de la accion (se genera un 'Stop loss')\n",
    "                porcentaje = (precio_check - precio_flag)/precio_check\n",
    "                \n",
    "                if ((df['RSI'].iloc[i + j] > 60) | (porcentaje < stop)):\n",
    "                    Selling_dates.append(df.iloc[i+j+1].name)\n",
    "                    break\n",
    "                    \n",
    "                elif j==20:\n",
    "                    Selling_dates.append(df.iloc[i+j+1].name)\n",
    "            \n",
    "                    \n",
    "    return Buying_dates, Selling_dates    "
   ]
  },
  {
   "cell_type": "markdown",
   "id": "d8e66b6c",
   "metadata": {},
   "source": [
    "1. flag = ultimo dia de compra y su valor de cierre\n",
    "2. check = Extrapolar precio de cierre del mismo dia y su cambio"
   ]
  },
  {
   "cell_type": "markdown",
   "id": "9fcb7b4a",
   "metadata": {},
   "source": [
    "## VARIOS ACTIVOS"
   ]
  },
  {
   "cell_type": "code",
   "execution_count": 31,
   "id": "a2cf0e50",
   "metadata": {
    "scrolled": false
   },
   "outputs": [
    {
     "name": "stdout",
     "output_type": "stream",
     "text": [
      "[*********************100%***********************]  1 of 1 completed\n"
     ]
    },
    {
     "data": {
      "image/png": "[encoded data removed]",
      "text/plain": [
       "<Figure size 864x360 with 1 Axes>"
      ]
     },
     "metadata": {
      "needs_background": "light"
     },
     "output_type": "display_data"
    },
    {
     "data": {
      "image/png": "[encoded data removed]",
      "text/plain": [
       "<Figure size 432x288 with 1 Axes>"
      ]
     },
     "metadata": {
      "needs_background": "light"
     },
     "output_type": "display_data"
    },
    {
     "data": {
      "text/html": [
       "<div>\n",
       "<style scoped>\n",
       "    .dataframe tbody tr th:only-of-type {\n",
       "        vertical-align: middle;\n",
       "    }\n",
       "\n",
       "    .dataframe tbody tr th {\n",
       "        vertical-align: top;\n",
       "    }\n",
       "\n",
       "    .dataframe thead th {\n",
       "        text-align: right;\n",
       "    }\n",
       "</style>\n",
       "<table border=\"1\" class=\"dataframe\">\n",
       "  <thead>\n",
       "    <tr style=\"text-align: right;\">\n",
       "      <th></th>\n",
       "      <th>Rendimientos</th>\n",
       "      <th>Utilidad</th>\n",
       "      <th>Monto</th>\n",
       "    </tr>\n",
       "  </thead>\n",
       "  <tbody>\n",
       "    <tr>\n",
       "      <th>0</th>\n",
       "      <td>0.050428</td>\n",
       "      <td>0.047928</td>\n",
       "      <td>1047927.706</td>\n",
       "    </tr>\n",
       "    <tr>\n",
       "      <th>1</th>\n",
       "      <td>0.070256</td>\n",
       "      <td>0.067756</td>\n",
       "      <td>1118930.757</td>\n",
       "    </tr>\n",
       "    <tr>\n",
       "      <th>2</th>\n",
       "      <td>0.089136</td>\n",
       "      <td>0.086636</td>\n",
       "      <td>1215870.459</td>\n",
       "    </tr>\n",
       "    <tr>\n",
       "      <th>3</th>\n",
       "      <td>0.092187</td>\n",
       "      <td>0.089687</td>\n",
       "      <td>1324917.875</td>\n",
       "    </tr>\n",
       "    <tr>\n",
       "      <th>4</th>\n",
       "      <td>0.087963</td>\n",
       "      <td>0.085463</td>\n",
       "      <td>1438149.594</td>\n",
       "    </tr>\n",
       "    <tr>\n",
       "      <th>5</th>\n",
       "      <td>0.090098</td>\n",
       "      <td>0.087598</td>\n",
       "      <td>1564128.015</td>\n",
       "    </tr>\n",
       "    <tr>\n",
       "      <th>6</th>\n",
       "      <td>0.038501</td>\n",
       "      <td>0.036001</td>\n",
       "      <td>1620438.232</td>\n",
       "    </tr>\n",
       "    <tr>\n",
       "      <th>7</th>\n",
       "      <td>-0.002919</td>\n",
       "      <td>-0.005419</td>\n",
       "      <td>1611656.858</td>\n",
       "    </tr>\n",
       "    <tr>\n",
       "      <th>8</th>\n",
       "      <td>0.040165</td>\n",
       "      <td>0.037665</td>\n",
       "      <td>1672359.245</td>\n",
       "    </tr>\n",
       "    <tr>\n",
       "      <th>9</th>\n",
       "      <td>0.036145</td>\n",
       "      <td>0.033645</td>\n",
       "      <td>1728626.003</td>\n",
       "    </tr>\n",
       "    <tr>\n",
       "      <th>10</th>\n",
       "      <td>0.042285</td>\n",
       "      <td>0.039785</td>\n",
       "      <td>1797399.204</td>\n",
       "    </tr>\n",
       "    <tr>\n",
       "      <th>11</th>\n",
       "      <td>0.049048</td>\n",
       "      <td>0.046548</td>\n",
       "      <td>1881064.788</td>\n",
       "    </tr>\n",
       "    <tr>\n",
       "      <th>12</th>\n",
       "      <td>0.038249</td>\n",
       "      <td>0.035749</td>\n",
       "      <td>1948310.973</td>\n",
       "    </tr>\n",
       "    <tr>\n",
       "      <th>13</th>\n",
       "      <td>0.046751</td>\n",
       "      <td>0.044251</td>\n",
       "      <td>2034525.166</td>\n",
       "    </tr>\n",
       "    <tr>\n",
       "      <th>14</th>\n",
       "      <td>0.031769</td>\n",
       "      <td>0.029269</td>\n",
       "      <td>2094073.825</td>\n",
       "    </tr>\n",
       "  </tbody>\n",
       "</table>\n",
       "</div>"
      ],
      "text/plain": [
       "    Rendimientos  Utilidad        Monto\n",
       "0       0.050428  0.047928  1047927.706\n",
       "1       0.070256  0.067756  1118930.757\n",
       "2       0.089136  0.086636  1215870.459\n",
       "3       0.092187  0.089687  1324917.875\n",
       "4       0.087963  0.085463  1438149.594\n",
       "5       0.090098  0.087598  1564128.015\n",
       "6       0.038501  0.036001  1620438.232\n",
       "7      -0.002919 -0.005419  1611656.858\n",
       "8       0.040165  0.037665  1672359.245\n",
       "9       0.036145  0.033645  1728626.003\n",
       "10      0.042285  0.039785  1797399.204\n",
       "11      0.049048  0.046548  1881064.788\n",
       "12      0.038249  0.035749  1948310.973\n",
       "13      0.046751  0.044251  2034525.166\n",
       "14      0.031769  0.029269  2094073.825"
      ]
     },
     "metadata": {},
     "output_type": "display_data"
    },
    {
     "data": {
      "text/plain": [
       "'Victorias: 0.933'"
      ]
     },
     "metadata": {},
     "output_type": "display_data"
    },
    {
     "data": {
      "text/plain": [
       "'Perdida promedio: -0.003'"
      ]
     },
     "metadata": {},
     "output_type": "display_data"
    },
    {
     "data": {
      "text/plain": [
       "'Balance: 2094073.825'"
      ]
     },
     "metadata": {},
     "output_type": "display_data"
    },
    {
     "data": {
      "text/plain": [
       "'Utilidad: 0.885'"
      ]
     },
     "metadata": {},
     "output_type": "display_data"
    }
   ],
   "source": [
    "# Elegir activo:\n",
    "stock = 'MSFT'\n",
    "\n",
    "# Generar dataframe y calcular señales de compra:\n",
    "frame = RSIcalc(stock)\n",
    "Buy, Sell = getSignals(frame)\n",
    "#Buy, Sell = getSignals2(frame, -0.05)\n",
    "\n",
    "# Calcular retornos de estrategia\n",
    "Profits = (frame.loc[Sell].Open.values - frame.loc[Buy].Open.values)/(frame.loc[Buy].Open.values)\n",
    "\n",
    "# Delimitar costos de mercado y capital inicial\n",
    "Comisiones = 0.0025\n",
    "capital = 1000000\n",
    "\n",
    "# Generar dataframe de retornos y utilidades\n",
    "dfr = pd.DataFrame()\n",
    "dfr['Rendimientos'] = Profits\n",
    "dfr['Utilidad'] = dfr['Rendimientos']-Comisiones\n",
    "\n",
    "# Generar columna de MONTO e INTERÉS COMPUESTO\n",
    "Monto = [capital]\n",
    "\n",
    "for i in range(len(dfr)):\n",
    "    valor = Monto[-1]*(1+dfr['Utilidad'][i])\n",
    "    Monto.append(valor)\n",
    "\n",
    "    # se borra capital inicial de la lista de montos\n",
    "del Monto[0]\n",
    "dfr['Monto'] = np.round(Monto,3)\n",
    "\n",
    "# Graficamos cierre de activo con fechas de compra:\n",
    "plt.figure(figsize=(12,5))\n",
    "plt.scatter(frame.loc[Buy].index , frame.loc[Buy]['Adj Close'], marker='^',c='g')\n",
    "plt.scatter(frame.loc[Sell].index , frame.loc[Sell]['Adj Close'], marker='v',c='r')\n",
    "plt.plot(frame['Adj Close'], alpha=0.7)\n",
    "plt.xlabel('Fecha')\n",
    "plt.ylabel('Cierre ajustado')\n",
    "plt.title(str(stock)+ ' Positions:')\n",
    "plt.show()\n",
    "\n",
    "# Graficamos retorno generado por número de posición:\n",
    "plt.bar(dfr.index, dfr.Rendimientos,width=0.6)\n",
    "plt.xlabel(\"Posición\")\n",
    "plt.ylabel(\"Rendimientos\")\n",
    "plt.title(\"Rendimiento por posición\")\n",
    "plt.show()\n",
    "\n",
    "# Calculamos el número de victorias en la estrategia:\n",
    "wins = [i for i in Profits if i > 0]\n",
    "wins = len(wins)/len(Profits)\n",
    "\n",
    "loss = [i for i in Profits if i < 0]\n",
    "avrg_loss = np.mean(loss)\n",
    "\n",
    "# Calculamos utilidad final DESPUÉS DE IMPUESTOS\n",
    "impuestos = 0.1\n",
    "    \n",
    "    # Encontramos monto final\n",
    "ultimo = dfr[['Monto']].iloc[-1]\n",
    "    \n",
    "    # Restamos impuestos\n",
    "ultimo_VOO = ultimo * (1-impuestos)\n",
    "    \n",
    "    # Lo convertimos en tasa comparado al capital inicial\n",
    "utilidad_VOO = (ultimo_VOO - capital) / capital\n",
    "    \n",
    "# Mandamos todo a proyectar en la misma celda\n",
    "display(dfr, \n",
    "        'Victorias: '+str(np.round(wins,3)),\n",
    "        'Perdida promedio: '+str(np.round(avrg_loss,3)),\n",
    "        'Balance: '+str(np.round(ultimo,3)[0]),\n",
    "        'Utilidad: ' +str(np.round(utilidad_VOO,3)[0]))"
   ]
  },
  {
   "cell_type": "code",
   "execution_count": 33,
   "id": "3b6f0371",
   "metadata": {},
   "outputs": [
    {
     "name": "stdout",
     "output_type": "stream",
     "text": [
      "[*********************100%***********************]  1 of 1 completed\n"
     ]
    },
    {
     "data": {
      "image/png": "[encoded data removed]",
      "text/plain": [
       "<Figure size 864x360 with 1 Axes>"
      ]
     },
     "metadata": {
      "needs_background": "light"
     },
     "output_type": "display_data"
    },
    {
     "data": {
      "image/png": "[encoded data removed]",
      "text/plain": [
       "<Figure size 432x288 with 1 Axes>"
      ]
     },
     "metadata": {
      "needs_background": "light"
     },
     "output_type": "display_data"
    },
    {
     "data": {
      "text/html": [
       "<div>\n",
       "<style scoped>\n",
       "    .dataframe tbody tr th:only-of-type {\n",
       "        vertical-align: middle;\n",
       "    }\n",
       "\n",
       "    .dataframe tbody tr th {\n",
       "        vertical-align: top;\n",
       "    }\n",
       "\n",
       "    .dataframe thead th {\n",
       "        text-align: right;\n",
       "    }\n",
       "</style>\n",
       "<table border=\"1\" class=\"dataframe\">\n",
       "  <thead>\n",
       "    <tr style=\"text-align: right;\">\n",
       "      <th></th>\n",
       "      <th>Rendimientos</th>\n",
       "      <th>Utilidad</th>\n",
       "      <th>Monto</th>\n",
       "    </tr>\n",
       "  </thead>\n",
       "  <tbody>\n",
       "    <tr>\n",
       "      <th>0</th>\n",
       "      <td>0.060681</td>\n",
       "      <td>0.058181</td>\n",
       "      <td>1058181.359</td>\n",
       "    </tr>\n",
       "    <tr>\n",
       "      <th>1</th>\n",
       "      <td>0.014550</td>\n",
       "      <td>0.012050</td>\n",
       "      <td>1070932.543</td>\n",
       "    </tr>\n",
       "    <tr>\n",
       "      <th>2</th>\n",
       "      <td>0.062844</td>\n",
       "      <td>0.060344</td>\n",
       "      <td>1135556.637</td>\n",
       "    </tr>\n",
       "    <tr>\n",
       "      <th>3</th>\n",
       "      <td>0.089206</td>\n",
       "      <td>0.086706</td>\n",
       "      <td>1234016.495</td>\n",
       "    </tr>\n",
       "    <tr>\n",
       "      <th>4</th>\n",
       "      <td>0.058028</td>\n",
       "      <td>0.055528</td>\n",
       "      <td>1302539.160</td>\n",
       "    </tr>\n",
       "    <tr>\n",
       "      <th>5</th>\n",
       "      <td>0.076522</td>\n",
       "      <td>0.074022</td>\n",
       "      <td>1398956.118</td>\n",
       "    </tr>\n",
       "    <tr>\n",
       "      <th>6</th>\n",
       "      <td>0.093643</td>\n",
       "      <td>0.091143</td>\n",
       "      <td>1526461.514</td>\n",
       "    </tr>\n",
       "    <tr>\n",
       "      <th>7</th>\n",
       "      <td>0.101868</td>\n",
       "      <td>0.099368</td>\n",
       "      <td>1678142.598</td>\n",
       "    </tr>\n",
       "    <tr>\n",
       "      <th>8</th>\n",
       "      <td>0.137944</td>\n",
       "      <td>0.135444</td>\n",
       "      <td>1905437.252</td>\n",
       "    </tr>\n",
       "    <tr>\n",
       "      <th>9</th>\n",
       "      <td>0.094257</td>\n",
       "      <td>0.091757</td>\n",
       "      <td>2080274.884</td>\n",
       "    </tr>\n",
       "    <tr>\n",
       "      <th>10</th>\n",
       "      <td>0.076600</td>\n",
       "      <td>0.074100</td>\n",
       "      <td>2234422.873</td>\n",
       "    </tr>\n",
       "    <tr>\n",
       "      <th>11</th>\n",
       "      <td>0.080231</td>\n",
       "      <td>0.077731</td>\n",
       "      <td>2408107.307</td>\n",
       "    </tr>\n",
       "    <tr>\n",
       "      <th>12</th>\n",
       "      <td>0.091274</td>\n",
       "      <td>0.088774</td>\n",
       "      <td>2621885.081</td>\n",
       "    </tr>\n",
       "    <tr>\n",
       "      <th>13</th>\n",
       "      <td>0.096398</td>\n",
       "      <td>0.093898</td>\n",
       "      <td>2868074.621</td>\n",
       "    </tr>\n",
       "    <tr>\n",
       "      <th>14</th>\n",
       "      <td>-0.025686</td>\n",
       "      <td>-0.028186</td>\n",
       "      <td>2787234.566</td>\n",
       "    </tr>\n",
       "  </tbody>\n",
       "</table>\n",
       "</div>"
      ],
      "text/plain": [
       "    Rendimientos  Utilidad        Monto\n",
       "0       0.060681  0.058181  1058181.359\n",
       "1       0.014550  0.012050  1070932.543\n",
       "2       0.062844  0.060344  1135556.637\n",
       "3       0.089206  0.086706  1234016.495\n",
       "4       0.058028  0.055528  1302539.160\n",
       "5       0.076522  0.074022  1398956.118\n",
       "6       0.093643  0.091143  1526461.514\n",
       "7       0.101868  0.099368  1678142.598\n",
       "8       0.137944  0.135444  1905437.252\n",
       "9       0.094257  0.091757  2080274.884\n",
       "10      0.076600  0.074100  2234422.873\n",
       "11      0.080231  0.077731  2408107.307\n",
       "12      0.091274  0.088774  2621885.081\n",
       "13      0.096398  0.093898  2868074.621\n",
       "14     -0.025686 -0.028186  2787234.566"
      ]
     },
     "metadata": {},
     "output_type": "display_data"
    },
    {
     "data": {
      "text/plain": [
       "'Victorias: 0.933'"
      ]
     },
     "metadata": {},
     "output_type": "display_data"
    },
    {
     "data": {
      "text/plain": [
       "'Perdida promedio: -0.026'"
      ]
     },
     "metadata": {},
     "output_type": "display_data"
    },
    {
     "data": {
      "text/plain": [
       "'Balance: 2508511.109'"
      ]
     },
     "metadata": {},
     "output_type": "display_data"
    },
    {
     "data": {
      "text/plain": [
       "'Utilidad: 1.509'"
      ]
     },
     "metadata": {},
     "output_type": "display_data"
    }
   ],
   "source": [
    "# Elegir activo:\n",
    "stock = 'TSLA'\n",
    "\n",
    "# Generar dataframe y calcular señales de compra:\n",
    "frame = RSIcalc(stock)\n",
    "Buy, Sell = getSignals(frame)\n",
    "#Buy, Sell = getSignals2(frame,-0.07)\n",
    "\n",
    "# Calcular retornos de estrategia\n",
    "Profits = (frame.loc[Sell].Open.values - frame.loc[Buy].Open.values)/(frame.loc[Buy].Open.values)\n",
    "\n",
    "# Delimitar costos de mercado y capital inicial\n",
    "Comisiones = 0.0025\n",
    "capital = 1000000\n",
    "\n",
    "# Generar dataframe de retornos y utilidades\n",
    "dfr = pd.DataFrame()\n",
    "dfr['Rendimientos'] = Profits\n",
    "dfr['Utilidad'] = dfr['Rendimientos']-Comisiones\n",
    "\n",
    "# Generar columna de MONTO e INTERÉS COMPUESTO\n",
    "Monto = [capital]\n",
    "\n",
    "for i in range(len(dfr)):\n",
    "    valor = Monto[-1]*(1+dfr['Utilidad'][i])\n",
    "    Monto.append(valor)\n",
    "\n",
    "    # se borra capital inicial de la lista de montos\n",
    "del Monto[0]\n",
    "dfr['Monto'] = np.round(Monto,3)\n",
    "\n",
    "# Graficamos cierre de activo con fechas de compra:\n",
    "plt.figure(figsize=(12,5))\n",
    "plt.scatter(frame.loc[Buy].index , frame.loc[Buy]['Adj Close'], marker='^',c='g')\n",
    "plt.scatter(frame.loc[Sell].index , frame.loc[Sell]['Adj Close'], marker='v',c='r')\n",
    "plt.plot(frame['Adj Close'], alpha=0.7)\n",
    "plt.xlabel('Fecha')\n",
    "plt.ylabel('Cierre ajustado')\n",
    "plt.title(str(stock)+ ' Positions:')\n",
    "plt.show()\n",
    "\n",
    "# Graficamos retorno generado por número de posición:\n",
    "plt.bar(dfr.index, dfr.Rendimientos,width=0.6)\n",
    "plt.xlabel(\"Posición\")\n",
    "plt.ylabel(\"Rendimientos\")\n",
    "plt.title(\"Rendimiento por posición\")\n",
    "plt.show()\n",
    "\n",
    "# Calculamos el número de victorias en la estrategia:\n",
    "wins = [i for i in Profits if i > 0]\n",
    "wins = len(wins)/len(Profits)\n",
    "\n",
    "loss = [i for i in Profits if i < 0]\n",
    "avrg_loss = np.mean(loss)\n",
    "\n",
    "# Calculamos utilidad final DESPUÉS DE IMPUESTOS\n",
    "impuestos = 0.1\n",
    "    \n",
    "    # Encontramos monto final\n",
    "ultimo = dfr[['Monto']].iloc[-1]\n",
    "    \n",
    "    # Restamos impuestos\n",
    "ultimo_TSLA = ultimo * (1-impuestos)\n",
    "    \n",
    "    # Lo convertimos en tasa comparado al capital inicial\n",
    "utilidad_TSLA = (ultimo_TSLA - capital) / capital\n",
    "    \n",
    "# Mandamos todo a proyectar en la misma celda\n",
    "display(dfr, \n",
    "        'Victorias: '+str(np.round(wins,3)),\n",
    "        'Perdida promedio: '+str(np.round(avrg_loss,3)),\n",
    "        'Balance: '+str(np.round(ultimo_TSLA,3)[0]),\n",
    "        'Utilidad: ' +str(np.round(utilidad_TSLA,3)[0]))"
   ]
  },
  {
   "cell_type": "code",
   "execution_count": 18,
   "id": "c63f234f",
   "metadata": {},
   "outputs": [
    {
     "name": "stdout",
     "output_type": "stream",
     "text": [
      "[*********************100%***********************]  1 of 1 completed\n"
     ]
    },
    {
     "data": {
      "image/png": "[encoded data removed]",
      "text/plain": [
       "<Figure size 864x360 with 1 Axes>"
      ]
     },
     "metadata": {
      "needs_background": "light"
     },
     "output_type": "display_data"
    },
    {
     "data": {
      "image/png": "[encoded data removed]",
      "text/plain": [
       "<Figure size 432x288 with 1 Axes>"
      ]
     },
     "metadata": {
      "needs_background": "light"
     },
     "output_type": "display_data"
    },
    {
     "data": {
      "text/html": [
       "<div>\n",
       "<style scoped>\n",
       "    .dataframe tbody tr th:only-of-type {\n",
       "        vertical-align: middle;\n",
       "    }\n",
       "\n",
       "    .dataframe tbody tr th {\n",
       "        vertical-align: top;\n",
       "    }\n",
       "\n",
       "    .dataframe thead th {\n",
       "        text-align: right;\n",
       "    }\n",
       "</style>\n",
       "<table border=\"1\" class=\"dataframe\">\n",
       "  <thead>\n",
       "    <tr style=\"text-align: right;\">\n",
       "      <th></th>\n",
       "      <th>Rendimientos</th>\n",
       "      <th>Utilidad</th>\n",
       "      <th>Monto</th>\n",
       "    </tr>\n",
       "  </thead>\n",
       "  <tbody>\n",
       "    <tr>\n",
       "      <th>0</th>\n",
       "      <td>-0.056282</td>\n",
       "      <td>-0.058782</td>\n",
       "      <td>941217.784</td>\n",
       "    </tr>\n",
       "    <tr>\n",
       "      <th>1</th>\n",
       "      <td>0.016582</td>\n",
       "      <td>0.014082</td>\n",
       "      <td>954472.186</td>\n",
       "    </tr>\n",
       "    <tr>\n",
       "      <th>2</th>\n",
       "      <td>0.056925</td>\n",
       "      <td>0.054425</td>\n",
       "      <td>1006419.154</td>\n",
       "    </tr>\n",
       "    <tr>\n",
       "      <th>3</th>\n",
       "      <td>0.000520</td>\n",
       "      <td>-0.001980</td>\n",
       "      <td>1004426.012</td>\n",
       "    </tr>\n",
       "    <tr>\n",
       "      <th>4</th>\n",
       "      <td>0.064519</td>\n",
       "      <td>0.062019</td>\n",
       "      <td>1066719.507</td>\n",
       "    </tr>\n",
       "    <tr>\n",
       "      <th>5</th>\n",
       "      <td>0.075455</td>\n",
       "      <td>0.072955</td>\n",
       "      <td>1144541.767</td>\n",
       "    </tr>\n",
       "    <tr>\n",
       "      <th>6</th>\n",
       "      <td>0.089909</td>\n",
       "      <td>0.087409</td>\n",
       "      <td>1244585.297</td>\n",
       "    </tr>\n",
       "    <tr>\n",
       "      <th>7</th>\n",
       "      <td>0.090188</td>\n",
       "      <td>0.087688</td>\n",
       "      <td>1353720.299</td>\n",
       "    </tr>\n",
       "    <tr>\n",
       "      <th>8</th>\n",
       "      <td>0.047398</td>\n",
       "      <td>0.044898</td>\n",
       "      <td>1414499.585</td>\n",
       "    </tr>\n",
       "    <tr>\n",
       "      <th>9</th>\n",
       "      <td>0.071196</td>\n",
       "      <td>0.068696</td>\n",
       "      <td>1511670.749</td>\n",
       "    </tr>\n",
       "    <tr>\n",
       "      <th>10</th>\n",
       "      <td>0.055993</td>\n",
       "      <td>0.053493</td>\n",
       "      <td>1592534.582</td>\n",
       "    </tr>\n",
       "    <tr>\n",
       "      <th>11</th>\n",
       "      <td>0.046753</td>\n",
       "      <td>0.044253</td>\n",
       "      <td>1663009.011</td>\n",
       "    </tr>\n",
       "  </tbody>\n",
       "</table>\n",
       "</div>"
      ],
      "text/plain": [
       "    Rendimientos  Utilidad        Monto\n",
       "0      -0.056282 -0.058782   941217.784\n",
       "1       0.016582  0.014082   954472.186\n",
       "2       0.056925  0.054425  1006419.154\n",
       "3       0.000520 -0.001980  1004426.012\n",
       "4       0.064519  0.062019  1066719.507\n",
       "5       0.075455  0.072955  1144541.767\n",
       "6       0.089909  0.087409  1244585.297\n",
       "7       0.090188  0.087688  1353720.299\n",
       "8       0.047398  0.044898  1414499.585\n",
       "9       0.071196  0.068696  1511670.749\n",
       "10      0.055993  0.053493  1592534.582\n",
       "11      0.046753  0.044253  1663009.011"
      ]
     },
     "metadata": {},
     "output_type": "display_data"
    },
    {
     "data": {
      "text/plain": [
       "'Victorias: 0.917'"
      ]
     },
     "metadata": {},
     "output_type": "display_data"
    },
    {
     "data": {
      "text/plain": [
       "'Balance: 1496708.11'"
      ]
     },
     "metadata": {},
     "output_type": "display_data"
    },
    {
     "data": {
      "text/plain": [
       "'Utilidad: 0.497'"
      ]
     },
     "metadata": {},
     "output_type": "display_data"
    }
   ],
   "source": [
    "stock = 'AAPL'\n",
    "\n",
    "# Generar dataframe y calcular señales de compra:\n",
    "frame = RSIcalc(stock)\n",
    "Buy, Sell = getSignals(frame)\n",
    "\n",
    "# Calcular retornos de estrategia\n",
    "Profits = (frame.loc[Sell].Open.values - frame.loc[Buy].Open.values)/(frame.loc[Buy].Open.values)\n",
    "\n",
    "# Delimitar costos de mercado y capital inicial\n",
    "Comisiones = 0.0025\n",
    "capital = 1000000\n",
    "\n",
    "# Generar dataframe de retornos y utilidades\n",
    "dfr = pd.DataFrame()\n",
    "dfr['Rendimientos'] = Profits\n",
    "dfr['Utilidad'] = dfr['Rendimientos']-Comisiones\n",
    "\n",
    "# Generar columna de MONTO e INTERÉS COMPUESTO\n",
    "Monto = [capital]\n",
    "\n",
    "for i in range(len(dfr)):\n",
    "    valor = Monto[-1]*(1+dfr['Utilidad'][i])\n",
    "    Monto.append(valor)\n",
    "\n",
    "    # se borra capital inicial de la lista de montos\n",
    "del Monto[0]\n",
    "dfr['Monto'] = np.round(Monto,3)\n",
    "\n",
    "# Graficamos cierre de activo con fechas de compra:\n",
    "plt.figure(figsize=(12,5))\n",
    "plt.scatter(frame.loc[Buy].index , frame.loc[Buy]['Adj Close'], marker='^',c='g')\n",
    "plt.scatter(frame.loc[Sell].index , frame.loc[Sell]['Adj Close'], marker='v',c='r')\n",
    "plt.plot(frame['Adj Close'], alpha=0.7)\n",
    "plt.xlabel('Fecha')\n",
    "plt.ylabel('Cierre ajustado')\n",
    "plt.title(str(stock)+ ' Positions:')\n",
    "plt.show()\n",
    "\n",
    "# Graficamos retorno generado por número de posición:\n",
    "plt.bar(dfr.index, dfr.Rendimientos,width=0.6)\n",
    "plt.xlabel(\"Posición\")\n",
    "plt.ylabel(\"Rendimientos\")\n",
    "plt.title(\"Rendimiento por posición\")\n",
    "plt.show()\n",
    "\n",
    "# Calculamos el número de victorias en la estrategia:\n",
    "wins = [i for i in Profits if i > 0]\n",
    "wins = len(wins)/len(Profits)\n",
    "\n",
    "# Calculamos utilidad final DESPUÉS DE IMPUESTOS\n",
    "impuestos = 0.1\n",
    "    \n",
    "    # Encontramos monto final\n",
    "ultimo = dfr[['Monto']].iloc[-1]\n",
    "    \n",
    "    # Restamos impuestos\n",
    "ultimo_AAPL = ultimo * (1-impuestos)\n",
    "    \n",
    "    # Lo convertimos en tasa comparado al capital inicial\n",
    "utilidad_AAPL = (ultimo_AAPL - capital) / capital\n",
    "    \n",
    "# Mandamos todo a proyectar en la misma celda\n",
    "display(dfr, \n",
    "        'Victorias: '+str(np.round(wins,3)),\n",
    "        'Balance: '+str(np.round(ultimo_AAPL,3)[0]),\n",
    "        'Utilidad: ' +str(np.round(utilidad_AAPL,3)[0]))"
   ]
  },
  {
   "cell_type": "code",
   "execution_count": 19,
   "id": "d7ac3b3b",
   "metadata": {},
   "outputs": [
    {
     "name": "stdout",
     "output_type": "stream",
     "text": [
      "[*********************100%***********************]  1 of 1 completed\n"
     ]
    },
    {
     "data": {
      "image/png": "[encoded data removed]",
      "text/plain": [
       "<Figure size 864x360 with 1 Axes>"
      ]
     },
     "metadata": {
      "needs_background": "light"
     },
     "output_type": "display_data"
    },
    {
     "data": {
      "image/png": "[encoded data removed]",
      "text/plain": [
       "<Figure size 432x288 with 1 Axes>"
      ]
     },
     "metadata": {
      "needs_background": "light"
     },
     "output_type": "display_data"
    },
    {
     "data": {
      "text/html": [
       "<div>\n",
       "<style scoped>\n",
       "    .dataframe tbody tr th:only-of-type {\n",
       "        vertical-align: middle;\n",
       "    }\n",
       "\n",
       "    .dataframe tbody tr th {\n",
       "        vertical-align: top;\n",
       "    }\n",
       "\n",
       "    .dataframe thead th {\n",
       "        text-align: right;\n",
       "    }\n",
       "</style>\n",
       "<table border=\"1\" class=\"dataframe\">\n",
       "  <thead>\n",
       "    <tr style=\"text-align: right;\">\n",
       "      <th></th>\n",
       "      <th>Rendimientos</th>\n",
       "      <th>Utilidad</th>\n",
       "      <th>Monto</th>\n",
       "    </tr>\n",
       "  </thead>\n",
       "  <tbody>\n",
       "    <tr>\n",
       "      <th>0</th>\n",
       "      <td>-0.024055</td>\n",
       "      <td>-0.026555</td>\n",
       "      <td>973444.959</td>\n",
       "    </tr>\n",
       "    <tr>\n",
       "      <th>1</th>\n",
       "      <td>0.031423</td>\n",
       "      <td>0.028923</td>\n",
       "      <td>1001600.205</td>\n",
       "    </tr>\n",
       "    <tr>\n",
       "      <th>2</th>\n",
       "      <td>0.083721</td>\n",
       "      <td>0.081221</td>\n",
       "      <td>1082951.069</td>\n",
       "    </tr>\n",
       "    <tr>\n",
       "      <th>3</th>\n",
       "      <td>0.029281</td>\n",
       "      <td>0.026781</td>\n",
       "      <td>1111953.874</td>\n",
       "    </tr>\n",
       "    <tr>\n",
       "      <th>4</th>\n",
       "      <td>0.121739</td>\n",
       "      <td>0.119239</td>\n",
       "      <td>1244542.250</td>\n",
       "    </tr>\n",
       "    <tr>\n",
       "      <th>5</th>\n",
       "      <td>0.135563</td>\n",
       "      <td>0.133063</td>\n",
       "      <td>1410145.250</td>\n",
       "    </tr>\n",
       "    <tr>\n",
       "      <th>6</th>\n",
       "      <td>0.155914</td>\n",
       "      <td>0.153414</td>\n",
       "      <td>1626481.217</td>\n",
       "    </tr>\n",
       "    <tr>\n",
       "      <th>7</th>\n",
       "      <td>0.205031</td>\n",
       "      <td>0.202531</td>\n",
       "      <td>1955893.320</td>\n",
       "    </tr>\n",
       "    <tr>\n",
       "      <th>8</th>\n",
       "      <td>0.185157</td>\n",
       "      <td>0.182657</td>\n",
       "      <td>2313151.786</td>\n",
       "    </tr>\n",
       "    <tr>\n",
       "      <th>9</th>\n",
       "      <td>0.237089</td>\n",
       "      <td>0.234589</td>\n",
       "      <td>2855792.353</td>\n",
       "    </tr>\n",
       "  </tbody>\n",
       "</table>\n",
       "</div>"
      ],
      "text/plain": [
       "   Rendimientos  Utilidad        Monto\n",
       "0     -0.024055 -0.026555   973444.959\n",
       "1      0.031423  0.028923  1001600.205\n",
       "2      0.083721  0.081221  1082951.069\n",
       "3      0.029281  0.026781  1111953.874\n",
       "4      0.121739  0.119239  1244542.250\n",
       "5      0.135563  0.133063  1410145.250\n",
       "6      0.155914  0.153414  1626481.217\n",
       "7      0.205031  0.202531  1955893.320\n",
       "8      0.185157  0.182657  2313151.786\n",
       "9      0.237089  0.234589  2855792.353"
      ]
     },
     "metadata": {},
     "output_type": "display_data"
    },
    {
     "data": {
      "text/plain": [
       "'Victorias: 0.9'"
      ]
     },
     "metadata": {},
     "output_type": "display_data"
    },
    {
     "data": {
      "text/plain": [
       "'Balance: 2570213.118'"
      ]
     },
     "metadata": {},
     "output_type": "display_data"
    },
    {
     "data": {
      "text/plain": [
       "'Utilidad: 1.57'"
      ]
     },
     "metadata": {},
     "output_type": "display_data"
    }
   ],
   "source": [
    "stock = 'GME'\n",
    "\n",
    "# Generar dataframe y calcular señales de compra:\n",
    "frame = RSIcalc(stock)\n",
    "Buy, Sell = getSignals(frame)\n",
    "\n",
    "# Calcular retornos de estrategia\n",
    "Profits = (frame.loc[Sell].Open.values - frame.loc[Buy].Open.values)/(frame.loc[Buy].Open.values)\n",
    "\n",
    "# Delimitar costos de mercado y capital inicial\n",
    "Comisiones = 0.0025\n",
    "capital = 1000000\n",
    "\n",
    "# Generar dataframe de retornos y utilidades\n",
    "dfr = pd.DataFrame()\n",
    "dfr['Rendimientos'] = Profits\n",
    "dfr['Utilidad'] = dfr['Rendimientos']-Comisiones\n",
    "\n",
    "# Generar columna de MONTO e INTERÉS COMPUESTO\n",
    "Monto = [capital]\n",
    "\n",
    "for i in range(len(dfr)):\n",
    "    valor = Monto[-1]*(1+dfr['Utilidad'][i])\n",
    "    Monto.append(valor)\n",
    "\n",
    "    # se borra capital inicial de la lista de montos\n",
    "del Monto[0]\n",
    "dfr['Monto'] = np.round(Monto,3)\n",
    "\n",
    "# Graficamos cierre de activo con fechas de compra:\n",
    "plt.figure(figsize=(12,5))\n",
    "plt.scatter(frame.loc[Buy].index , frame.loc[Buy]['Adj Close'], marker='^',c='g')\n",
    "plt.scatter(frame.loc[Sell].index , frame.loc[Sell]['Adj Close'], marker='v',c='r')\n",
    "plt.plot(frame['Adj Close'], alpha=0.7)\n",
    "plt.xlabel('Fecha')\n",
    "plt.ylabel('Cierre ajustado')\n",
    "plt.title(str(stock)+ ' Positions:')\n",
    "plt.show()\n",
    "\n",
    "# Graficamos retorno generado por número de posición:\n",
    "plt.bar(dfr.index, dfr.Rendimientos,width=0.6)\n",
    "plt.xlabel(\"Posición\")\n",
    "plt.ylabel(\"Rendimientos\")\n",
    "plt.title(\"Rendimiento por posición\")\n",
    "plt.show()\n",
    "\n",
    "# Calculamos el número de victorias en la estrategia:\n",
    "wins = [i for i in Profits if i > 0]\n",
    "wins = len(wins)/len(Profits)\n",
    "\n",
    "# Calculamos utilidad final DESPUÉS DE IMPUESTOS\n",
    "impuestos = 0.1\n",
    "    \n",
    "    # Encontramos monto final\n",
    "ultimo = dfr[['Monto']].iloc[-1]\n",
    "    \n",
    "    # Restamos impuestos\n",
    "ultimo_GME = ultimo * (1-impuestos)\n",
    "    \n",
    "    # Lo convertimos en tasa comparado al capital inicial\n",
    "utilidad_GME = (ultimo_GME - capital) / capital\n",
    "    \n",
    "# Mandamos todo a proyectar en la misma celda\n",
    "display(dfr, \n",
    "        'Victorias: '+str(np.round(wins,3)),\n",
    "        'Balance: '+str(np.round(ultimo_GME,3)[0]),\n",
    "        'Utilidad: '+str(np.round(utilidad_GME,3)[0]))"
   ]
  },
  {
   "cell_type": "code",
   "execution_count": 20,
   "id": "c940c116",
   "metadata": {},
   "outputs": [
    {
     "data": {
      "text/plain": [
       "Monto    0.81609\n",
       "dtype: float64"
      ]
     },
     "execution_count": 20,
     "metadata": {},
     "output_type": "execute_result"
    }
   ],
   "source": [
    "cap_total = capital*4\n",
    "suma_montos = ultimo_VOO + ultimo_TSLA + ultimo_AAPL + ultimo_GME\n",
    "utilidad_total = (suma_montos - cap_total) / cap_total\n",
    "utilidad_total"
   ]
  },
  {
   "cell_type": "code",
   "execution_count": null,
   "id": "a9108497",
   "metadata": {},
   "outputs": [],
   "source": []
  }
 ],
 "metadata": {
  "kernelspec": {
   "display_name": "Python 3 (ipykernel)",
   "language": "python",
   "name": "python3"
  },
  "language_info": {
   "codemirror_mode": {
    "name": "ipython",
    "version": 3
   },
   "file_extension": ".py",
   "mimetype": "text/x-python",
   "name": "python",
   "nbconvert_exporter": "python",
   "pygments_lexer": "ipython3",
   "version": "3.9.12"
  }
 },
 "nbformat": 4,
 "nbformat_minor": 5
}
